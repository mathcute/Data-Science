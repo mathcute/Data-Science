{
  "nbformat": 4,
  "nbformat_minor": 0,
  "metadata": {
    "colab": {
      "provenance": [],
      "authorship_tag": "ABX9TyMvCrITUcLIXvaUMH2xMcC1",
      "include_colab_link": true
    },
    "kernelspec": {
      "name": "python3",
      "display_name": "Python 3"
    },
    "language_info": {
      "name": "python"
    }
  },
  "cells": [
    {
      "cell_type": "markdown",
      "metadata": {
        "id": "view-in-github",
        "colab_type": "text"
      },
      "source": [
        "<a href=\"https://colab.research.google.com/github/mathcute/Data-Science/blob/main/Banco_de_dados_SQLITE.ipynb\" target=\"_parent\"><img src=\"https://colab.research.google.com/assets/colab-badge.svg\" alt=\"Open In Colab\"/></a>"
      ]
    },
    {
      "cell_type": "code",
      "execution_count": null,
      "metadata": {
        "colab": {
          "base_uri": "https://localhost:8080/"
        },
        "id": "lVW0kc5LQOdB",
        "outputId": "b85a4439-cf29-48b5-8a87-8bca01f57a89"
      },
      "outputs": [
        {
          "output_type": "stream",
          "name": "stdout",
          "text": [
            "('jorge', 'jorge@email.com', 30)\n",
            "('lucas', 'lucas@email.com', 25)\n",
            "('lucio', 'lucio@email.com', 20)\n",
            "('jorge', 'jorge@email.com', 30)\n"
          ]
        }
      ],
      "source": [
        "import sqlite3\n",
        "\n",
        "banco = \"dados.db\"\n",
        "conexao = sqlite3.connect(banco)\n",
        "cursor = conexao.cursor()\n",
        "\n",
        "cursor.execute(\"\"\"\n",
        "CREATE TABLE clientes (\n",
        "  nome TEXT,\n",
        "  email TEXT,\n",
        "  idade INTEGER\n",
        ");\n",
        "\"\"\")\n",
        "\n",
        "with open(\"clientes.txt\", \"r\") as arquivo:\n",
        "\n",
        "  for linha in arquivo:\n",
        "\n",
        "    (nome, email, idade) = linha.split(\",\")\n",
        "\n",
        "    cursor.execute(\"\"\"\n",
        "      INSERT INTO clientes (nome, email, idade)\n",
        "      VALUES (?, ?, ?);\n",
        "    \"\"\", (nome, email, idade))\n",
        "\n",
        "cursor.execute(\"SELECT * FROM clientes\")\n",
        "\n",
        "for linha in cursor:\n",
        "\n",
        "  print(linha)\n",
        "\n",
        "cursor.execute(\"SELECT * FROM clientes WHERE nome = 'jorge'\")\n",
        "print(cursor.fetchone())\n",
        "\n",
        "cursor.execute(\"\"\"\n",
        "  UPDATE clientes\n",
        "  SET email = 'jorge@email.com'\n",
        "  WHERE nome = 'jorge';\n",
        "\"\"\")\n",
        "\n",
        "cursor.execute(\"DELETE FROM clientes WHERE nome = 'jorge'\")\n",
        "\n",
        "conexao.close()\n"
      ]
    }
  ]
}