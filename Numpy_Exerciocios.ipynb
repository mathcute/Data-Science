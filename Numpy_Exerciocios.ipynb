{
  "nbformat": 4,
  "nbformat_minor": 0,
  "metadata": {
    "colab": {
      "provenance": [],
      "authorship_tag": "ABX9TyOGtoD3u6j5YwJiWhrtnSDx",
      "include_colab_link": true
    },
    "kernelspec": {
      "name": "python3",
      "display_name": "Python 3"
    },
    "language_info": {
      "name": "python"
    }
  },
  "cells": [
    {
      "cell_type": "markdown",
      "metadata": {
        "id": "view-in-github",
        "colab_type": "text"
      },
      "source": [
        "<a href=\"https://colab.research.google.com/github/mathcute/Data-Science/blob/main/Numpy_Exerciocios.ipynb\" target=\"_parent\"><img src=\"https://colab.research.google.com/assets/colab-badge.svg\" alt=\"Open In Colab\"/></a>"
      ]
    },
    {
      "cell_type": "markdown",
      "source": [
        "##1. Desenvolva um array NumPy com valores de 1 a 10 (inclusive) e, em seguida, reverta a ordem dos elementos."
      ],
      "metadata": {
        "id": "SjoOSsX0UJYk"
      }
    },
    {
      "cell_type": "code",
      "execution_count": null,
      "metadata": {
        "colab": {
          "base_uri": "https://localhost:8080/"
        },
        "id": "7uyK7DUyUCJx",
        "outputId": "429fe6a3-2afb-4f0e-d8f5-8a6131ca244e"
      },
      "outputs": [
        {
          "output_type": "stream",
          "name": "stdout",
          "text": [
            "[10  9  8  7  6  5  4  3  2  1]\n"
          ]
        }
      ],
      "source": [
        "import numpy as np\n",
        "\n",
        "array = np.array([1, 2, 3, 4, 5, 6, 7, 8, 9, 10])\n",
        "\n",
        "print(np.flipud(array))"
      ]
    },
    {
      "cell_type": "markdown",
      "source": [
        "##2. Crie dois arrays NumPy A e B de tamanho 5x5 preenchidos com números aleatórios e realize a multiplicação elemento a elemento entre eles.\n"
      ],
      "metadata": {
        "id": "k2pXlNKjVVan"
      }
    },
    {
      "cell_type": "code",
      "source": [
        "array_a = np.random.rand(5, 5)\n",
        "\n",
        "array_b = np.random.rand(5, 5)\n",
        "\n",
        "multiplicacao = np.dot(array_a, array_b)\n",
        "\n",
        "print(multiplicacao)"
      ],
      "metadata": {
        "colab": {
          "base_uri": "https://localhost:8080/"
        },
        "id": "pnCMfeZwVbqX",
        "outputId": "e9b92d84-3cdc-44d3-a67b-658c0f88b33d"
      },
      "execution_count": null,
      "outputs": [
        {
          "output_type": "stream",
          "name": "stdout",
          "text": [
            "[[0.98024385 0.9239942  0.77163046 1.25261082 0.98453536]\n",
            " [1.28132546 1.89022889 1.33635797 1.99821838 1.58429218]\n",
            " [0.94607169 1.49973545 1.37845207 1.55077119 1.35857473]\n",
            " [1.42034813 1.03994921 1.1421982  1.63702184 2.27308807]\n",
            " [1.50867916 1.39671611 0.97615542 1.71704513 1.17776234]]\n"
          ]
        }
      ]
    },
    {
      "cell_type": "markdown",
      "source": [
        "##3. Faça um array NumPy com números aleatórios e calcule a média, o desvio padrão e a mediana dos valores (funções mean, std e median).\n"
      ],
      "metadata": {
        "id": "iRSU0IJkWtMW"
      }
    },
    {
      "cell_type": "code",
      "source": [
        "array_a = np.random.rand(5, 5)\n",
        "\n",
        "array_b = np.random.rand(5, 5)\n",
        "\n",
        "media_a = (np.mean(array_a))\n",
        "\n",
        "media_b = (np.mean(array_b))\n",
        "\n",
        "desvio_padrao_a = (np.std(array_a))\n",
        "\n",
        "desvio_padrao_b = (np.std(array_b))\n",
        "\n",
        "mediana_a = (np.mean(array_a))\n",
        "\n",
        "mediana_b = (np.mean(array_b))"
      ],
      "metadata": {
        "id": "_Pi93MWcWzeH"
      },
      "execution_count": null,
      "outputs": []
    },
    {
      "cell_type": "markdown",
      "source": [
        "##4. Faça um array NumPy com valores de 0 a 9 e, em seguida, crie um novo array que contenha apenas os elementos pares do array original."
      ],
      "metadata": {
        "id": "ncSimnw1Xex8"
      }
    },
    {
      "cell_type": "code",
      "source": [
        "array = [0, 1, 2, 3, 4, 5, 6, 7, 8, 9]\n",
        "array2 = []\n",
        "\n",
        "for i in range(len(array)):\n",
        "\n",
        "  if (array[i] % 2 == 0):\n",
        "\n",
        "    array2.append(array[i])\n",
        "\n",
        "print(array2)"
      ],
      "metadata": {
        "colab": {
          "base_uri": "https://localhost:8080/"
        },
        "id": "CTOPmznKXpcx",
        "outputId": "a873317d-629a-4e9a-9502-be6d9deb8073"
      },
      "execution_count": null,
      "outputs": [
        {
          "output_type": "stream",
          "name": "stdout",
          "text": [
            "[0, 2, 4, 6, 8]\n"
          ]
        }
      ]
    },
    {
      "cell_type": "markdown",
      "source": [
        "##5. Crie um array NumPy com números aleatórios e substitua todos os valores negativos por zero.\n"
      ],
      "metadata": {
        "id": "NsMIm9UTagjS"
      }
    },
    {
      "cell_type": "code",
      "source": [
        "array = np.random.rand(2)\n",
        "\n",
        "for i in range(len(array)):\n",
        "\n",
        "  if (array[i] < 0):\n",
        "\n",
        "    array[i] = 0\n",
        "\n",
        "print(array)"
      ],
      "metadata": {
        "colab": {
          "base_uri": "https://localhost:8080/"
        },
        "id": "XattaU23avqL",
        "outputId": "3700c48c-38b1-4475-aa91-9783f592e855"
      },
      "execution_count": null,
      "outputs": [
        {
          "output_type": "stream",
          "name": "stdout",
          "text": [
            "[0.03422733 0.68584741]\n"
          ]
        }
      ]
    },
    {
      "cell_type": "markdown",
      "source": [
        "##6. Crie um array NumPy com valores aleatórios inteiros entre 1 e 100 (inclusive) e encontre os seguintes estatísticas:\n",
        "a) Média\n",
        "b) Desvio padrão\n",
        "c) Mediana\n",
        "d) Valor mínimo\n",
        "e) Valor máximo"
      ],
      "metadata": {
        "id": "e_VyihjWdqH6"
      }
    },
    {
      "cell_type": "code",
      "execution_count": null,
      "metadata": {
        "colab": {
          "base_uri": "https://localhost:8080/"
        },
        "id": "WUUgx7mJdnn1",
        "outputId": "d25fa265-ebe3-46b7-a27d-a195bc92fdff"
      },
      "outputs": [
        {
          "output_type": "stream",
          "name": "stdout",
          "text": [
            "94\n"
          ]
        }
      ],
      "source": [
        "import numpy as np\n",
        "\n",
        "array = np.random.randint(0, 100, size = 10)\n",
        "\n",
        "media = np.mean(array)\n",
        "\n",
        "desvio_padrao = np.std(array)\n",
        "\n",
        "mediana = np.median(array)\n",
        "\n",
        "min = np.min(array)\n",
        "\n",
        "max = np.max(array)\n",
        "\n",
        "print(max)"
      ]
    }
  ]
}