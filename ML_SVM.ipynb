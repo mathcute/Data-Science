{
  "nbformat": 4,
  "nbformat_minor": 0,
  "metadata": {
    "colab": {
      "provenance": [],
      "authorship_tag": "ABX9TyNUgR+p2PrGj5XleqvGP0Lh",
      "include_colab_link": true
    },
    "kernelspec": {
      "name": "python3",
      "display_name": "Python 3"
    },
    "language_info": {
      "name": "python"
    }
  },
  "cells": [
    {
      "cell_type": "markdown",
      "metadata": {
        "id": "view-in-github",
        "colab_type": "text"
      },
      "source": [
        "<a href=\"https://colab.research.google.com/github/mathcute/Data-Science/blob/main/ML_SVM.ipynb\" target=\"_parent\"><img src=\"https://colab.research.google.com/assets/colab-badge.svg\" alt=\"Open In Colab\"/></a>"
      ]
    },
    {
      "cell_type": "code",
      "execution_count": null,
      "metadata": {
        "id": "O-1x5uEmgjsR"
      },
      "outputs": [],
      "source": [
        "import pandas as pd\n",
        "from sklearn.datasets import make_classification\n",
        "from sklearn.model_selection import train_test_split\n",
        "from sklearn.pipeline import make_pipeline\n",
        "from sklearn.preprocessing import StandardScaler\n",
        "from sklearn.model_selection import cross_val_score\n",
        "\n",
        "x, y = make_classification(n_samples = 100, random_state = 1)\n",
        "x_train, x_test, y_train, y_test = train_test_split(x, y, stratify = y, random_state = 1)\n",
        "\n",
        "tdf = pd.DataFrame(x_train)\n",
        "tdf['target'] = y_train\n",
        "tdf['target'] = tdf['target'].astype('str')\n",
        "tdf.head()"
      ]
    },
    {
      "cell_type": "markdown",
      "source": [
        "##SVM"
      ],
      "metadata": {
        "id": "3MxqhK7nmJg3"
      }
    },
    {
      "cell_type": "code",
      "source": [
        "from sklearn.svm import SVC\n",
        "clf = make_pipeline(StandardScaler(), SVC(gamma = 'auto'))\n",
        "\n",
        "clf.fit(x_train, y_train)\n",
        "\n",
        "print('Prediction: ', clf.predict(x_test[:5, :]))\n",
        "\n",
        "print('Model Accuracy: ', clf.score(x_test, y_test))"
      ],
      "metadata": {
        "colab": {
          "base_uri": "https://localhost:8080/"
        },
        "id": "wDZa6ZjcmMaP",
        "outputId": "26b3a3da-b113-4b19-b4c8-87ad2f47fd87"
      },
      "execution_count": 3,
      "outputs": [
        {
          "output_type": "stream",
          "name": "stdout",
          "text": [
            "Prediction:  [1 0 1 1 1]\n",
            "Model Accuracy:  0.96\n"
          ]
        }
      ]
    }
  ]
}