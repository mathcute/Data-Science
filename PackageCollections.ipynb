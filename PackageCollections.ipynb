{
  "nbformat": 4,
  "nbformat_minor": 0,
  "metadata": {
    "colab": {
      "provenance": [],
      "authorship_tag": "ABX9TyPngTwExp7aOYdv4bgJvA82",
      "include_colab_link": true
    },
    "kernelspec": {
      "name": "python3",
      "display_name": "Python 3"
    },
    "language_info": {
      "name": "python"
    }
  },
  "cells": [
    {
      "cell_type": "markdown",
      "metadata": {
        "id": "view-in-github",
        "colab_type": "text"
      },
      "source": [
        "<a href=\"https://colab.research.google.com/github/mathcute/Data-Science/blob/main/PackageCollections.ipynb\" target=\"_parent\"><img src=\"https://colab.research.google.com/assets/colab-badge.svg\" alt=\"Open In Colab\"/></a>"
      ]
    },
    {
      "cell_type": "markdown",
      "source": [
        "##Contar letras da palavra sem Counter"
      ],
      "metadata": {
        "id": "M4_0aexGPhsy"
      }
    },
    {
      "cell_type": "code",
      "execution_count": null,
      "metadata": {
        "colab": {
          "base_uri": "https://localhost:8080/"
        },
        "id": "u_AysUd3PA0X",
        "outputId": "bec06171-bd87-4c09-e94a-3c3c54050c4e"
      },
      "outputs": [
        {
          "output_type": "stream",
          "name": "stdout",
          "text": [
            "{'m': 1, 'i': 4, 's': 4, 'p': 1}\n"
          ]
        }
      ],
      "source": [
        "palavra = \"mississipi\"\n",
        "\n",
        "contador = {}\n",
        "\n",
        "for i in palavra:\n",
        "\n",
        "  if not contador.get(i):\n",
        "\n",
        "    contador[i] = palavra.count(i)\n",
        "\n",
        "print(contador)"
      ]
    },
    {
      "cell_type": "markdown",
      "source": [
        "##Com couter"
      ],
      "metadata": {
        "id": "1tEJgWWYQeUn"
      }
    },
    {
      "cell_type": "code",
      "source": [
        "from collections import Counter\n",
        "\n",
        "print(Counter(\"mississipi\"))"
      ],
      "metadata": {
        "colab": {
          "base_uri": "https://localhost:8080/"
        },
        "id": "69-NlqJ6QXTv",
        "outputId": "dd7572d9-16ca-4bc3-bb9a-063e1e33aab3"
      },
      "execution_count": null,
      "outputs": [
        {
          "output_type": "stream",
          "name": "stdout",
          "text": [
            "Counter({'i': 4, 's': 4, 'm': 1, 'p': 1})\n"
          ]
        }
      ]
    },
    {
      "cell_type": "markdown",
      "source": [
        "##Mais um exemplo"
      ],
      "metadata": {
        "id": "6buo4-A1Q7zs"
      }
    },
    {
      "cell_type": "code",
      "source": [
        "from collections import Counter\n",
        "\n",
        "itens = Counter(\"mississií\")\n",
        "itens = Counter(itens)\n",
        "print(itens)\n",
        "\n",
        "itens.update(\"missouri\")\n",
        "print(itens)"
      ],
      "metadata": {
        "colab": {
          "base_uri": "https://localhost:8080/"
        },
        "id": "a8WMtkqyQ-ZP",
        "outputId": "b40fa78c-0119-4e70-f743-83eb30fd362a"
      },
      "execution_count": null,
      "outputs": [
        {
          "output_type": "stream",
          "name": "stdout",
          "text": [
            "Counter({'s': 4, 'i': 3, 'm': 1, 'í': 1})\n",
            "Counter({'s': 6, 'i': 5, 'm': 2, 'í': 1, 'o': 1, 'u': 1, 'r': 1})\n"
          ]
        }
      ]
    },
    {
      "cell_type": "markdown",
      "source": [
        "##Outras formas"
      ],
      "metadata": {
        "id": "_2CxeTCUR2eg"
      }
    },
    {
      "cell_type": "code",
      "source": [
        "from collections import Counter\n",
        "\n",
        "print(Counter(['B', 'A', 'B', 'A', 'C', 'B', 'A', 'C']))\n",
        "\n",
        "print(Counter({'A:3', 'B:5', 'C:7'}))\n",
        "\n",
        "print(Counter(A = 3,  B = 5, C = 7))"
      ],
      "metadata": {
        "colab": {
          "base_uri": "https://localhost:8080/"
        },
        "id": "Xix4hKoyR4mg",
        "outputId": "66455caf-48d2-4a06-89ed-430a9f7d5915"
      },
      "execution_count": null,
      "outputs": [
        {
          "output_type": "stream",
          "name": "stdout",
          "text": [
            "Counter({'B': 3, 'A': 3, 'C': 2})\n",
            "Counter({'A:3': 1, 'B:5': 1, 'C:7': 1})\n",
            "Counter({'C': 7, 'B': 5, 'A': 3})\n"
          ]
        }
      ]
    }
  ]
}