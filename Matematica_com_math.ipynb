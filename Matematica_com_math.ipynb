{
  "nbformat": 4,
  "nbformat_minor": 0,
  "metadata": {
    "colab": {
      "provenance": [],
      "authorship_tag": "ABX9TyM9ZeMIeuyQhbGQUv/1hDQF",
      "include_colab_link": true
    },
    "kernelspec": {
      "name": "python3",
      "display_name": "Python 3"
    },
    "language_info": {
      "name": "python"
    }
  },
  "cells": [
    {
      "cell_type": "markdown",
      "metadata": {
        "id": "view-in-github",
        "colab_type": "text"
      },
      "source": [
        "<a href=\"https://colab.research.google.com/github/mathcute/Data-Science/blob/main/Matematica_com_math.ipynb\" target=\"_parent\"><img src=\"https://colab.research.google.com/assets/colab-badge.svg\" alt=\"Open In Colab\"/></a>"
      ]
    },
    {
      "cell_type": "markdown",
      "source": [
        "##Fazer um algoritmo para ler o valor de x e y e calcular uma equacao completa"
      ],
      "metadata": {
        "id": "lI6yHN7iHapR"
      }
    },
    {
      "cell_type": "code",
      "execution_count": 1,
      "metadata": {
        "colab": {
          "base_uri": "https://localhost:8080/"
        },
        "id": "5QzAE0xfHZFd",
        "outputId": "3e29fd51-b811-4199-c91c-37c7509c4260"
      },
      "outputs": [
        {
          "output_type": "stream",
          "name": "stdout",
          "text": [
            "Coloque o  valor de x: 10\n",
            "Coloque o valor de y: 10\n",
            "Valor de z:  22038.305345337456\n"
          ]
        }
      ],
      "source": [
        "import math\n",
        "\n",
        "x = float(input('Coloque o  valor de x: '))\n",
        "\n",
        "y = float(input('Coloque o valor de y: '))\n",
        "\n",
        "z = math.sqrt(x** 2 + y ** 2) - math.log(x) + math.exp(y)\n",
        "\n",
        "print('Valor de z: ', z)"
      ]
    }
  ]
}