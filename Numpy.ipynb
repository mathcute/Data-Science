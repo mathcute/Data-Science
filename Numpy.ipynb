{
  "nbformat": 4,
  "nbformat_minor": 0,
  "metadata": {
    "colab": {
      "provenance": [],
      "collapsed_sections": [
        "iW057TEqYYLt",
        "cmueJbViZJ2V",
        "ckpBL900aYWY",
        "rpXE44aLbMZS",
        "uEdYRFSgbmbG",
        "K9TaOiVyb93W",
        "SZfazGGtdJOV",
        "lIXxlazVdeB4"
      ],
      "authorship_tag": "ABX9TyN+mGFLakUdEk2cdqPt9kuA",
      "include_colab_link": true
    },
    "kernelspec": {
      "name": "python3",
      "display_name": "Python 3"
    },
    "language_info": {
      "name": "python"
    }
  },
  "cells": [
    {
      "cell_type": "markdown",
      "metadata": {
        "id": "view-in-github",
        "colab_type": "text"
      },
      "source": [
        "<a href=\"https://colab.research.google.com/github/mathcute/Data-Science/blob/main/Numpy.ipynb\" target=\"_parent\"><img src=\"https://colab.research.google.com/assets/colab-badge.svg\" alt=\"Open In Colab\"/></a>"
      ]
    },
    {
      "cell_type": "markdown",
      "source": [
        "##Criando arrays com NumPy"
      ],
      "metadata": {
        "id": "iW057TEqYYLt"
      }
    },
    {
      "cell_type": "code",
      "execution_count": null,
      "metadata": {
        "colab": {
          "base_uri": "https://localhost:8080/"
        },
        "id": "aBwFe3YjYSvV",
        "outputId": "a599b972-c798-4ed8-fd70-fafa2bddfab6"
      },
      "outputs": [
        {
          "output_type": "stream",
          "name": "stdout",
          "text": [
            "[ 1  2  3 10 20 30]\n"
          ]
        }
      ],
      "source": [
        "import numpy as np\n",
        "\n",
        "data = [1, 2, 3, 10, 20, 30]\n",
        "\n",
        "array = np.array(data)\n",
        "\n",
        "print(array)"
      ]
    },
    {
      "cell_type": "markdown",
      "source": [
        "##Atributos de arrays"
      ],
      "metadata": {
        "id": "cmueJbViZJ2V"
      }
    },
    {
      "cell_type": "code",
      "source": [
        "data = [[10, 20, 30], [40, 60, 90]]\n",
        "\n",
        "array = np.array(data)\n",
        "\n",
        "print(array.ndim) #fornece o número de dimensoes do array\n",
        "print(array.shape) #shape nos diz quantos elementos temos em cada dimensão"
      ],
      "metadata": {
        "id": "Ndc-Fc64ZLL7"
      },
      "execution_count": null,
      "outputs": []
    },
    {
      "cell_type": "markdown",
      "source": [
        "##Atributos de arrays - 2"
      ],
      "metadata": {
        "id": "ckpBL900aYWY"
      }
    },
    {
      "cell_type": "code",
      "source": [
        "import numpy as geek\n",
        "\n",
        "arr = [[1, 2, 3], [4, 5, 6]]\n",
        "dimension = geek.ndim(arr)\n",
        "print(dimension)"
      ],
      "metadata": {
        "colab": {
          "base_uri": "https://localhost:8080/"
        },
        "id": "_qgF-YpxalYs",
        "outputId": "131f0c67-0119-4b9e-edd2-fc1841c3e47e"
      },
      "execution_count": null,
      "outputs": [
        {
          "output_type": "stream",
          "name": "stdout",
          "text": [
            "2\n"
          ]
        }
      ]
    },
    {
      "cell_type": "markdown",
      "source": [
        "##Gerando Arrays"
      ],
      "metadata": {
        "id": "rpXE44aLbMZS"
      }
    },
    {
      "cell_type": "code",
      "source": [
        "print(np.zeros(10))\n",
        "\n",
        "print(np.ones(10))\n",
        "\n",
        "print(np.arange(20))"
      ],
      "metadata": {
        "colab": {
          "base_uri": "https://localhost:8080/"
        },
        "id": "Mf5L6_rgbPa4",
        "outputId": "fd1ccbbf-78b1-4e54-ca6e-ef93b343608b"
      },
      "execution_count": null,
      "outputs": [
        {
          "output_type": "stream",
          "name": "stdout",
          "text": [
            "[0. 0. 0. 0. 0. 0. 0. 0. 0. 0.]\n",
            "[1. 1. 1. 1. 1. 1. 1. 1. 1. 1.]\n",
            "[ 0  1  2  3  4  5  6  7  8  9 10 11 12 13 14 15 16 17 18 19]\n"
          ]
        }
      ]
    },
    {
      "cell_type": "markdown",
      "source": [
        "##Gerando arrays com Métodos Built-in"
      ],
      "metadata": {
        "id": "uEdYRFSgbmbG"
      }
    },
    {
      "cell_type": "code",
      "source": [
        "print(np.arange(0, 10, 2))\n",
        "\n",
        "print(np.arange(0, 10, 1))\n",
        "\n",
        "print(np.arange(0, 10, 3))"
      ],
      "metadata": {
        "id": "OJCgQJ13bn5O"
      },
      "execution_count": null,
      "outputs": []
    },
    {
      "cell_type": "markdown",
      "source": [
        "##Arrays Aleatórios"
      ],
      "metadata": {
        "id": "K9TaOiVyb93W"
      }
    },
    {
      "cell_type": "code",
      "source": [
        "print(np.random.rand(1))\n",
        "\n",
        "print(np.random.rand(2))\n",
        "\n",
        "print(np.random.rand(3))"
      ],
      "metadata": {
        "colab": {
          "base_uri": "https://localhost:8080/"
        },
        "id": "cisoTMqLcCos",
        "outputId": "24bf1e5d-c2c6-4fc5-875d-85372a3dd603"
      },
      "execution_count": null,
      "outputs": [
        {
          "output_type": "stream",
          "name": "stdout",
          "text": [
            "[0.05884451]\n",
            "[0.81274155 0.52243347]\n",
            "[0.62305551 0.65387707 0.58512595]\n"
          ]
        }
      ]
    },
    {
      "cell_type": "markdown",
      "source": [
        "##Arrays multidimensionais"
      ],
      "metadata": {
        "id": "SZfazGGtdJOV"
      }
    },
    {
      "cell_type": "code",
      "source": [
        "print(np.random.rand(1, 2))\n",
        "\n",
        "print(np.random.rand(2, 3))\n",
        "\n",
        "print(np.random.rand(3, 4))"
      ],
      "metadata": {
        "colab": {
          "base_uri": "https://localhost:8080/"
        },
        "id": "KdMP0wzudMSr",
        "outputId": "14c9aa17-3232-4b9a-9ef1-59f555875575"
      },
      "execution_count": null,
      "outputs": [
        {
          "output_type": "stream",
          "name": "stdout",
          "text": [
            "[[0.22405723 0.80179501]]\n",
            "[[0.95205042 0.15646463 0.95748298]\n",
            " [0.16850553 0.75155174 0.23304885]]\n",
            "[[0.77216919 0.09500395 0.68630131 0.46635723]\n",
            " [0.90135788 0.05610969 0.11455445 0.58527441]\n",
            " [0.64108282 0.43626344 0.61260802 0.42579299]]\n"
          ]
        }
      ]
    },
    {
      "cell_type": "markdown",
      "source": [
        "##Max e Min()"
      ],
      "metadata": {
        "id": "lIXxlazVdeB4"
      }
    },
    {
      "cell_type": "code",
      "source": [
        "vetor = np.random.rand(3)\n",
        "\n",
        "print(vetor)\n",
        "\n",
        "print(vetor.max())\n",
        "\n",
        "print(vetor.min())"
      ],
      "metadata": {
        "colab": {
          "base_uri": "https://localhost:8080/"
        },
        "id": "xjiz0q_pdhPX",
        "outputId": "6aeaf52f-1f35-4980-d555-a3cf5a8b064c"
      },
      "execution_count": null,
      "outputs": [
        {
          "output_type": "stream",
          "name": "stdout",
          "text": [
            "[0.24916363 0.40811157 0.47182919]\n",
            "0.4718291899475322\n",
            "0.24916362569386552\n"
          ]
        }
      ]
    }
  ]
}