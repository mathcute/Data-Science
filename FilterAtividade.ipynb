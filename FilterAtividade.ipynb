{
  "nbformat": 4,
  "nbformat_minor": 0,
  "metadata": {
    "colab": {
      "provenance": [],
      "authorship_tag": "ABX9TyMWUjKAOt4H5z0KZebtJwE+",
      "include_colab_link": true
    },
    "kernelspec": {
      "name": "python3",
      "display_name": "Python 3"
    },
    "language_info": {
      "name": "python"
    }
  },
  "cells": [
    {
      "cell_type": "markdown",
      "metadata": {
        "id": "view-in-github",
        "colab_type": "text"
      },
      "source": [
        "<a href=\"https://colab.research.google.com/github/mathcute/Data-Science/blob/main/FilterAtividade.ipynb\" target=\"_parent\"><img src=\"https://colab.research.google.com/assets/colab-badge.svg\" alt=\"Open In Colab\"/></a>"
      ]
    },
    {
      "cell_type": "markdown",
      "source": [
        "##Faça um programa que filtre numeros entre 1 a 100 com filter()"
      ],
      "metadata": {
        "id": "REcV_jAogWdV"
      }
    },
    {
      "cell_type": "code",
      "execution_count": null,
      "metadata": {
        "colab": {
          "base_uri": "https://localhost:8080/"
        },
        "id": "7fbgdlO3eW0-",
        "outputId": "8697c00e-b602-468d-cd31-94558cf4f082"
      },
      "outputs": [
        {
          "output_type": "stream",
          "name": "stdout",
          "text": [
            "[99, 20, 30]\n"
          ]
        }
      ],
      "source": [
        "def filter1(x):\n",
        "\n",
        "  return x in range(1, 101)\n",
        "\n",
        "valores = [99, 20, 30, -1, -2, -6, 102]\n",
        "print(list(filter(filter1, valores)))"
      ]
    }
  ]
}