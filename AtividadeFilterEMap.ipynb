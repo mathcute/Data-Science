{
  "nbformat": 4,
  "nbformat_minor": 0,
  "metadata": {
    "colab": {
      "provenance": [],
      "authorship_tag": "ABX9TyNlouatue+tTzRgyLoaGuZR",
      "include_colab_link": true
    },
    "kernelspec": {
      "name": "python3",
      "display_name": "Python 3"
    },
    "language_info": {
      "name": "python"
    }
  },
  "cells": [
    {
      "cell_type": "markdown",
      "metadata": {
        "id": "view-in-github",
        "colab_type": "text"
      },
      "source": [
        "<a href=\"https://colab.research.google.com/github/mathcute/Data-Science/blob/main/AtividadeFilterEMap.ipynb\" target=\"_parent\"><img src=\"https://colab.research.google.com/assets/colab-badge.svg\" alt=\"Open In Colab\"/></a>"
      ]
    },
    {
      "cell_type": "markdown",
      "source": [
        "##Filtrar os numeros pares"
      ],
      "metadata": {
        "id": "shruNgwajYl0"
      }
    },
    {
      "cell_type": "code",
      "execution_count": null,
      "metadata": {
        "colab": {
          "base_uri": "https://localhost:8080/"
        },
        "id": "_9opbZJHjWhd",
        "outputId": "35f05792-e1fd-46db-9c11-e2acf18dd39c"
      },
      "outputs": [
        {
          "output_type": "stream",
          "name": "stdout",
          "text": [
            "[2, 4, 10]\n"
          ]
        }
      ],
      "source": [
        "def filter1(x):\n",
        "  return x%2 == 0\n",
        "\n",
        "valores = [1, 2, 4, 5, 10, 23, 45, 77]\n",
        "print(list(filter(filter1, valores)))"
      ]
    },
    {
      "cell_type": "markdown",
      "source": [
        "##Calcular em lista de numeros de cada numero x^2"
      ],
      "metadata": {
        "id": "nm6BkHIckYPD"
      }
    },
    {
      "cell_type": "code",
      "source": [
        "valores = [1, 2, 4, 5, 10, 23, 45, 77]\n",
        "\n",
        "mapped = (list(map(lambda x: x * x, valores)))\n",
        "\n",
        "print(mapped)"
      ],
      "metadata": {
        "colab": {
          "base_uri": "https://localhost:8080/"
        },
        "id": "JyuNnp9_lXqk",
        "outputId": "e3f770cb-6b28-42a4-b93a-6d02ee2f3e43"
      },
      "execution_count": null,
      "outputs": [
        {
          "output_type": "stream",
          "name": "stdout",
          "text": [
            "[1, 4, 16, 25, 100, 529, 2025, 5929]\n"
          ]
        }
      ]
    }
  ]
}