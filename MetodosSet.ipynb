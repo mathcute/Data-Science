{
  "nbformat": 4,
  "nbformat_minor": 0,
  "metadata": {
    "colab": {
      "provenance": [],
      "authorship_tag": "ABX9TyOsVgvTYHSolS3rtulrAxvG",
      "include_colab_link": true
    },
    "kernelspec": {
      "name": "python3",
      "display_name": "Python 3"
    },
    "language_info": {
      "name": "python"
    }
  },
  "cells": [
    {
      "cell_type": "markdown",
      "metadata": {
        "id": "view-in-github",
        "colab_type": "text"
      },
      "source": [
        "<a href=\"https://colab.research.google.com/github/mathcute/Data-Science/blob/main/MetodosSet.ipynb\" target=\"_parent\"><img src=\"https://colab.research.google.com/assets/colab-badge.svg\" alt=\"Open In Colab\"/></a>"
      ]
    },
    {
      "cell_type": "markdown",
      "source": [
        "## Union de conjuntos"
      ],
      "metadata": {
        "id": "j4cygcpSNV8u"
      }
    },
    {
      "cell_type": "code",
      "execution_count": 2,
      "metadata": {
        "colab": {
          "base_uri": "https://localhost:8080/"
        },
        "id": "ZhPtvc8oNRl0",
        "outputId": "10e7490b-6e57-4bee-f913-27e594916590"
      },
      "outputs": [
        {
          "output_type": "execute_result",
          "data": {
            "text/plain": [
              "{1, 2, 3, 4}"
            ]
          },
          "metadata": {},
          "execution_count": 2
        }
      ],
      "source": [
        "conjunto_a = {1, 2}\n",
        "conjunto_b = {3, 4}\n",
        "\n",
        "conjunto_a.union(conjunto_b)"
      ]
    },
    {
      "cell_type": "markdown",
      "source": [
        "## Intersection"
      ],
      "metadata": {
        "id": "a0f5swEGOnfw"
      }
    },
    {
      "cell_type": "code",
      "source": [
        "conjunto_a = {1, 2, 3}\n",
        "conjunto_b = {1, 2, 4}\n",
        "\n",
        "conjunto_a.intersection(conjunto_b)"
      ],
      "metadata": {
        "colab": {
          "base_uri": "https://localhost:8080/"
        },
        "id": "rfAG9cCeOuvC",
        "outputId": "428514bc-af6e-49b8-c423-422a8d8aba3c"
      },
      "execution_count": 3,
      "outputs": [
        {
          "output_type": "execute_result",
          "data": {
            "text/plain": [
              "{1, 2}"
            ]
          },
          "metadata": {},
          "execution_count": 3
        }
      ]
    },
    {
      "cell_type": "markdown",
      "source": [
        "## Difference"
      ],
      "metadata": {
        "id": "sLJhRK4lO_jB"
      }
    },
    {
      "cell_type": "code",
      "source": [
        "conjunto_a = {1, 2, 3, 9}\n",
        "conjunto_b = {1, 2, 4, 7}\n",
        "\n",
        "conjunto_a.difference(conjunto_b) # 3, 9\n",
        "conjunto_b.difference(conjunto_a) # 4, 7"
      ],
      "metadata": {
        "colab": {
          "base_uri": "https://localhost:8080/"
        },
        "id": "RVvPnEyUPEul",
        "outputId": "57682cbb-882c-45ee-c482-e1f41578e3e9"
      },
      "execution_count": 5,
      "outputs": [
        {
          "output_type": "execute_result",
          "data": {
            "text/plain": [
              "{4, 7}"
            ]
          },
          "metadata": {},
          "execution_count": 5
        }
      ]
    },
    {
      "cell_type": "markdown",
      "source": [
        "## Symmetric difference"
      ],
      "metadata": {
        "id": "tIl527FIPgHL"
      }
    },
    {
      "cell_type": "code",
      "source": [
        "conjunto_a = {2, 3, 4}\n",
        "conjunto_b = {2, 3, 6}\n",
        "\n",
        "conjunto_a.symmetric_difference(conjunto_b)"
      ],
      "metadata": {
        "colab": {
          "base_uri": "https://localhost:8080/"
        },
        "id": "j6laSuNhPqmS",
        "outputId": "ba291bbf-fe5d-455a-b7ce-07c4d0ad63be"
      },
      "execution_count": 6,
      "outputs": [
        {
          "output_type": "execute_result",
          "data": {
            "text/plain": [
              "{4, 6}"
            ]
          },
          "metadata": {},
          "execution_count": 6
        }
      ]
    },
    {
      "cell_type": "markdown",
      "source": [
        "##IsSubSet"
      ],
      "metadata": {
        "id": "99W67wJ_QE_6"
      }
    },
    {
      "cell_type": "code",
      "source": [
        "conjunto_a = {2, 3}\n",
        "conjunto_b = {2, 3, 0, 4}\n",
        "\n",
        "conjunto_a.issubset(conjunto_b) #TRUE\n",
        "conjunto_b.issubset(conjunto_a) #FALSE"
      ],
      "metadata": {
        "colab": {
          "base_uri": "https://localhost:8080/"
        },
        "id": "ulPqX787QOrb",
        "outputId": "50fddf7c-da20-49b8-ab02-7635ead36afb"
      },
      "execution_count": 9,
      "outputs": [
        {
          "output_type": "execute_result",
          "data": {
            "text/plain": [
              "False"
            ]
          },
          "metadata": {},
          "execution_count": 9
        }
      ]
    },
    {
      "cell_type": "markdown",
      "source": [
        "## IsDjoinist"
      ],
      "metadata": {
        "id": "e-9PzInZQ6_X"
      }
    },
    {
      "cell_type": "code",
      "source": [
        "conjunto_a = {2, 3}\n",
        "conjunto_b = {4, 5}\n",
        "conjunto_c = {2, 0}\n",
        "\n",
        "conjunto_a.isdisjoint(conjunto_b) #TRUE\n",
        "conjunto_a.isdisjoint(conjunto_c) #FALSE"
      ],
      "metadata": {
        "colab": {
          "base_uri": "https://localhost:8080/"
        },
        "id": "WmVBE7nPRCAC",
        "outputId": "ac2a6df8-3967-4d56-8ee1-1229a0b505c9"
      },
      "execution_count": 11,
      "outputs": [
        {
          "output_type": "execute_result",
          "data": {
            "text/plain": [
              "False"
            ]
          },
          "metadata": {},
          "execution_count": 11
        }
      ]
    },
    {
      "cell_type": "markdown",
      "source": [
        "## Add and Pop"
      ],
      "metadata": {
        "id": "usGUYe6CRibD"
      }
    },
    {
      "cell_type": "code",
      "source": [
        "sorteio = {1, 2}\n",
        "\n",
        "sorteio.add(3)\n",
        "sorteio.add(90)\n",
        "sorteio.add(19)\n",
        "\n",
        "print(sorteio) # {1, 2, 3, 19, 90}\n",
        "\n",
        "sorteio.pop() # pop out 1\n",
        "sorteio.pop() # pop out 2\n",
        "\n",
        "print(sorteio) # {3, 19, 90}"
      ],
      "metadata": {
        "colab": {
          "base_uri": "https://localhost:8080/"
        },
        "id": "m8DZnGnXRlhx",
        "outputId": "6a2ad6e0-025b-499e-f279-52c469975334"
      },
      "execution_count": 14,
      "outputs": [
        {
          "output_type": "stream",
          "name": "stdout",
          "text": [
            "{1, 2, 3, 19, 90}\n",
            "{3, 19, 90}\n"
          ]
        }
      ]
    }
  ]
}