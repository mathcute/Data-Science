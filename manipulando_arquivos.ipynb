{
  "nbformat": 4,
  "nbformat_minor": 0,
  "metadata": {
    "colab": {
      "provenance": [],
      "authorship_tag": "ABX9TyM3+kQkIJQ/2tE2Hw7vn/VS",
      "include_colab_link": true
    },
    "kernelspec": {
      "name": "python3",
      "display_name": "Python 3"
    },
    "language_info": {
      "name": "python"
    }
  },
  "cells": [
    {
      "cell_type": "markdown",
      "metadata": {
        "id": "view-in-github",
        "colab_type": "text"
      },
      "source": [
        "<a href=\"https://colab.research.google.com/github/mathcute/Data-Science/blob/main/manipulando_arquivos.ipynb\" target=\"_parent\"><img src=\"https://colab.research.google.com/assets/colab-badge.svg\" alt=\"Open In Colab\"/></a>"
      ]
    },
    {
      "cell_type": "markdown",
      "source": [
        "## Escrevendo e abrindo o código"
      ],
      "metadata": {
        "id": "UzkvxxIBqXoy"
      }
    },
    {
      "cell_type": "code",
      "execution_count": null,
      "metadata": {
        "colab": {
          "base_uri": "https://localhost:8080/"
        },
        "id": "ANDaAGU8l_N8",
        "outputId": "b437285d-372d-49ef-b87f-a8b71644adc4"
      },
      "outputs": [
        {
          "output_type": "stream",
          "name": "stdout",
          "text": [
            "texto1\n",
            "texto2\n",
            "\n"
          ]
        }
      ],
      "source": [
        "with open(\"arquivo.txt\", 'w') as f:\n",
        "  f.write(\"texto1\\n\")\n",
        "  f.write(\"texto2\\n\")\n",
        "\n",
        "with open(\"arquivo.txt\", 'r') as f:\n",
        "  print(f.read())"
      ]
    },
    {
      "cell_type": "markdown",
      "source": [],
      "metadata": {
        "id": "tIM7vKFlqkDA"
      }
    },
    {
      "cell_type": "markdown",
      "source": [
        "## Ler as linhas de um arquivo com o for e separar as palavras de cada linha com o método split():"
      ],
      "metadata": {
        "id": "VLoXIcJCqlcK"
      }
    },
    {
      "cell_type": "code",
      "source": [
        "f = open(\"arquivo.txt\", 'r')\n",
        "\n",
        "for i in f:\n",
        "  print(i.split())\n",
        "\n",
        "f.close()"
      ],
      "metadata": {
        "colab": {
          "base_uri": "https://localhost:8080/"
        },
        "id": "79EkMdZpqqDA",
        "outputId": "0af2459f-3599-4c9d-d9a5-676a8d06ed04"
      },
      "execution_count": null,
      "outputs": [
        {
          "output_type": "stream",
          "name": "stdout",
          "text": [
            "['texto1']\n",
            "['texto2']\n"
          ]
        }
      ]
    },
    {
      "cell_type": "markdown",
      "source": [
        "## Abrir um arquivo txt e escrever elementos de uma lista:\n"
      ],
      "metadata": {
        "id": "5nOjnrLrrh3H"
      }
    },
    {
      "cell_type": "code",
      "source": [
        "f = open(\"arquivo.txt\", 'w')\n",
        "\n",
        "lista = ['1', '2', '3']\n",
        "\n",
        "for i in lista:\n",
        "\n",
        "  f.write(i)\n",
        "  f.write(\"\\n\")\n",
        "\n",
        "f.close()"
      ],
      "metadata": {
        "id": "a6SJv1JorpKS"
      },
      "execution_count": 16,
      "outputs": []
    }
  ]
}