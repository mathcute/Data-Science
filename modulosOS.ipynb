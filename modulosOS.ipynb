{
  "nbformat": 4,
  "nbformat_minor": 0,
  "metadata": {
    "colab": {
      "provenance": [],
      "collapsed_sections": [
        "TbIXmrVLwOYh",
        "jlFNp15Bwh_H",
        "yYojqAmewzsy"
      ],
      "authorship_tag": "ABX9TyNsPylMNAE/mjXetWYprLUm",
      "include_colab_link": true
    },
    "kernelspec": {
      "name": "python3",
      "display_name": "Python 3"
    },
    "language_info": {
      "name": "python"
    }
  },
  "cells": [
    {
      "cell_type": "markdown",
      "metadata": {
        "id": "view-in-github",
        "colab_type": "text"
      },
      "source": [
        "<a href=\"https://colab.research.google.com/github/mathcute/Data-Science/blob/main/modulosOS.ipynb\" target=\"_parent\"><img src=\"https://colab.research.google.com/assets/colab-badge.svg\" alt=\"Open In Colab\"/></a>"
      ]
    },
    {
      "cell_type": "markdown",
      "source": [
        "## Obter endereço do diretório"
      ],
      "metadata": {
        "id": "TbIXmrVLwOYh"
      }
    },
    {
      "cell_type": "code",
      "execution_count": null,
      "metadata": {
        "colab": {
          "base_uri": "https://localhost:8080/"
        },
        "id": "8GsVpBZwv_Kw",
        "outputId": "645581ab-c4ba-4373-e664-296c971f860f"
      },
      "outputs": [
        {
          "output_type": "stream",
          "name": "stdout",
          "text": [
            "/content\n"
          ]
        }
      ],
      "source": [
        "import os\n",
        "\n",
        "diretorio = os.getcwd()\n",
        "\n",
        "print(diretorio)"
      ]
    },
    {
      "cell_type": "markdown",
      "source": [
        "## Inserir os nomes dos arquivos do diretório atual em uma lista."
      ],
      "metadata": {
        "id": "jlFNp15Bwh_H"
      }
    },
    {
      "cell_type": "code",
      "source": [
        "import os\n",
        "\n",
        "print(os.listdir())"
      ],
      "metadata": {
        "colab": {
          "base_uri": "https://localhost:8080/"
        },
        "id": "i9qhna_CwpDK",
        "outputId": "12623ec3-f752-49ba-cde5-bcd4a144b927"
      },
      "execution_count": null,
      "outputs": [
        {
          "output_type": "stream",
          "name": "stdout",
          "text": [
            "['.config', 'sample_data']\n"
          ]
        }
      ]
    },
    {
      "cell_type": "markdown",
      "source": [
        "## Listar todos os arquivos do diretório raiz do projeto"
      ],
      "metadata": {
        "id": "yYojqAmewzsy"
      }
    },
    {
      "cell_type": "code",
      "source": [
        "import os\n",
        "\n",
        "arquivos = os.scandir()\n",
        "\n",
        "for i in arquivos:\n",
        "  print(i)"
      ],
      "metadata": {
        "colab": {
          "base_uri": "https://localhost:8080/"
        },
        "id": "BgpqSVH1w9yd",
        "outputId": "96924a99-0934-4c70-c38a-6a6c5c8b7087"
      },
      "execution_count": null,
      "outputs": [
        {
          "output_type": "stream",
          "name": "stdout",
          "text": [
            "<DirEntry '.config'>\n",
            "<DirEntry 'sample_data'>\n"
          ]
        }
      ]
    }
  ]
}