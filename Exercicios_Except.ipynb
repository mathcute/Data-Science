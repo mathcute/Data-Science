{
  "nbformat": 4,
  "nbformat_minor": 0,
  "metadata": {
    "colab": {
      "provenance": [],
      "collapsed_sections": [
        "0Ru0mP75GEj6",
        "DORyyfQeHNLm",
        "LRrLKr9jJ1K0",
        "62SL51bwNFi4"
      ],
      "authorship_tag": "ABX9TyNzYh5UQjbFijtiga4CSm9T",
      "include_colab_link": true
    },
    "kernelspec": {
      "name": "python3",
      "display_name": "Python 3"
    },
    "language_info": {
      "name": "python"
    }
  },
  "cells": [
    {
      "cell_type": "markdown",
      "metadata": {
        "id": "view-in-github",
        "colab_type": "text"
      },
      "source": [
        "<a href=\"https://colab.research.google.com/github/mathcute/Data-Science/blob/main/Exercicios_Except.ipynb\" target=\"_parent\"><img src=\"https://colab.research.google.com/assets/colab-badge.svg\" alt=\"Open In Colab\"/></a>"
      ]
    },
    {
      "cell_type": "markdown",
      "source": [
        "##Faça um script que leia um nome e verifique se o nome é string válido, usando o try/except."
      ],
      "metadata": {
        "id": "0Ru0mP75GEj6"
      }
    },
    {
      "cell_type": "code",
      "execution_count": null,
      "metadata": {
        "id": "8_1L5y9CGA54",
        "colab": {
          "base_uri": "https://localhost:8080/"
        },
        "outputId": "6450139c-2096-49d7-af4a-af81dc70e801"
      },
      "outputs": [
        {
          "output_type": "stream",
          "name": "stdout",
          "text": [
            "Digite um nome: matheus\n",
            "nome eh valido\n"
          ]
        }
      ],
      "source": [
        "try:\n",
        "\n",
        "  nome = input(\"Digite um nome: \")\n",
        "\n",
        "  if nome.isalpha():\n",
        "\n",
        "    print(\"nome eh valido\")\n",
        "\n",
        "except ValueError:\n",
        "\n",
        "    print(\"nome invalido!\")\n",
        "\n"
      ]
    },
    {
      "cell_type": "markdown",
      "source": [
        "##Leitura de dois números inteiros do teclado e realizar a divisão dos números, fazendo os seguintes tratamentos das exceções caso:\n",
        "##a) Exista divisão por zero\n",
        "##b) Um dos números digitados não é número.\n"
      ],
      "metadata": {
        "id": "DORyyfQeHNLm"
      }
    },
    {
      "cell_type": "code",
      "source": [
        "numero1 = int(input(\"Digite seu numero: \"))\n",
        "numero2 = int(input(\"Digite seu segundo numero: \"))\n",
        "\n",
        "try:\n",
        "\n",
        "  dividir = numero1 / numero2\n",
        "\n",
        "  print(\"A divisao eh: \", dividir)\n",
        "\n",
        "  if numero1.isnumber() or numero2.isnumber():\n",
        "\n",
        "    print(\"concluido\")\n",
        "\n",
        "  else:\n",
        "\n",
        "    except ValueError:\n",
        "\n",
        "      print(\"Nao eh um numero digitado, tente novamente\")\n",
        "\n",
        "except ZeroDivisionError:\n",
        "\n",
        "  print('Nao podemos dividir um numero por zero')\n",
        "\n",
        "\n",
        "\n"
      ],
      "metadata": {
        "id": "B1xFfOIWHO7N"
      },
      "execution_count": null,
      "outputs": []
    },
    {
      "cell_type": "markdown",
      "source": [
        "##Tendo uma lista de números inteiros, faça o cálculo do fatorial de cada número da lista. Faça os seguintes tratamento de exceções, caso:\n",
        "##a) Exista um elemento da lista que não seja número.\n",
        "##b) Exista um número negativo."
      ],
      "metadata": {
        "id": "LRrLKr9jJ1K0"
      }
    },
    {
      "cell_type": "code",
      "source": [
        "def calcular_fatorial(numero):\n",
        "\n",
        "    if numero < 0:\n",
        "        raise ValueError(\"Número negativo não é permitido para o cálculo do fatorial.\")\n",
        "    if numero == 0:\n",
        "        return 1\n",
        "    return numero * calcular_fatorial(numero - 1)\n",
        "\n",
        "lista_de_numeros = [5, 7, 10, 'abc', -3]\n",
        "\n",
        "for numero in lista_de_numeros:\n",
        "\n",
        "    try:\n",
        "\n",
        "        if not isinstance(numero, int):\n",
        "\n",
        "            raise ValueError(\"Elemento da lista não é um número inteiro.\")\n",
        "        resultado = calcular_fatorial(numero)\n",
        "        print(f'O fatorial de {numero} é {resultado}')\n",
        "\n",
        "    except ValueError as e:\n",
        "\n",
        "        print(f'Erro: {e}')"
      ],
      "metadata": {
        "id": "oeYQKovUJ-2H"
      },
      "execution_count": null,
      "outputs": []
    },
    {
      "cell_type": "markdown",
      "source": [
        "##4. Tendo um arquivo de texto, conte quantas palavras tem esse arquivo, alémde contar quantas linhas existem. Seu script deve verificar se o arquivo está no diretório"
      ],
      "metadata": {
        "id": "62SL51bwNFi4"
      }
    },
    {
      "cell_type": "code",
      "source": [
        "import os\n",
        "\n",
        "\n",
        "def contar_palavras(arquivo):\n",
        "\n",
        "\n",
        "  try:\n",
        "\n",
        "    if os.path.isfile(arquivo):\n",
        "\n",
        "      with open(arquivo, 'r') as arquivo_texto:\n",
        "\n",
        "        texto = arquivo_texto.read()\n",
        "\n",
        "        palavras = texto.split()\n",
        "        num_palavras = len(palavras)\n",
        "\n",
        "        linhas = texto.split('\\n')\n",
        "        num_linhas = len(linhas)\n",
        "\n",
        "  except Exception:\n",
        "\n",
        "    print(\"nao foi achado o arquivo\")\n",
        "\n",
        "nome_arquivo = 'arquivo.txt'\n",
        "\n",
        "resultado = contar_palavras(nome_arquivo)\n",
        "\n",
        "if isinstance(resultado, tuple):\n",
        "\n",
        "  num_palavras, num_linhas = resultado\n",
        "\n",
        "  print(\"O arquivo {nome_arquivo}, tem {num_palavras}, e {num_linhas}\")\n",
        "\n",
        "\n",
        "\n",
        "\n"
      ],
      "metadata": {
        "id": "Yb3Rs71kNNYp"
      },
      "execution_count": null,
      "outputs": []
    },
    {
      "cell_type": "markdown",
      "source": [
        "##5. Um script que leia um nome completo, converta a primeira letra em letra maiúscula (joão silva => João Silva) e armazene dentro de um arquivo.\n",
        "#Elabore tratamento de exceção para verificar se é um nome válido e se o\n",
        "#arquivo está no diretório"
      ],
      "metadata": {
        "id": "1dXbmePoQVDv"
      }
    },
    {
      "cell_type": "code",
      "source": [
        "def formatar_nome(nome):\n",
        "\n",
        "    palavras = nome.split()\n",
        "    nome_formatado = \" \".join([palavra.capitalize() for palavra in palavras])\n",
        "\n",
        "    return nome_formatado\n",
        "\n",
        "try:\n",
        "\n",
        "    nome_completo = input(\"Digite um nome completo: \")\n",
        "\n",
        "    if nome_completo.strip() == \"\":\n",
        "\n",
        "        raise ValueError(\"O nome não pode estar vazio.\")\n",
        "\n",
        "    nome_formatado = formatar_nome(nome_completo)\n",
        "\n",
        "    nome_arquivo = \"nome_formatado.txt\"\n",
        "\n",
        "    with open(nome_arquivo, \"w\") as arquivo:\n",
        "\n",
        "        arquivo.write(nome_formatado)\n",
        "\n",
        "    print(f\"Nome formatado '{nome_formatado}' armazenado em '{nome_arquivo}'.\")\n",
        "\n",
        "except ValueError as ve:\n",
        "\n",
        "    print(f\"Erro: {ve}\")\n",
        "\n",
        "except Exception as e:\n",
        "\n",
        "    print(f\"Ocorreu um erro inesperado: {e}\")\n",
        "\n",
        "    j"
      ],
      "metadata": {
        "id": "9VilERcqQbwv",
        "colab": {
          "base_uri": "https://localhost:8080/"
        },
        "outputId": "6dfe7277-41bb-49ce-c39d-02f53ce28f92"
      },
      "execution_count": null,
      "outputs": [
        {
          "output_type": "stream",
          "name": "stdout",
          "text": [
            "Digite um nome completo: matheus\n",
            "Nome formatado 'Matheus' armazenado em 'nome_formatado.txt'.\n"
          ]
        }
      ]
    }
  ]
}