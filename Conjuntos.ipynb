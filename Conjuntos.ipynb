{
  "nbformat": 4,
  "nbformat_minor": 0,
  "metadata": {
    "colab": {
      "provenance": [],
      "authorship_tag": "ABX9TyM+XKV6FpUTwkGQOwec97wS",
      "include_colab_link": true
    },
    "kernelspec": {
      "name": "python3",
      "display_name": "Python 3"
    },
    "language_info": {
      "name": "python"
    }
  },
  "cells": [
    {
      "cell_type": "markdown",
      "metadata": {
        "id": "view-in-github",
        "colab_type": "text"
      },
      "source": [
        "<a href=\"https://colab.research.google.com/github/mathcute/Data-Science/blob/main/Conjuntos.ipynb\" target=\"_parent\"><img src=\"https://colab.research.google.com/assets/colab-badge.svg\" alt=\"Open In Colab\"/></a>"
      ]
    },
    {
      "cell_type": "markdown",
      "source": [
        "## Set"
      ],
      "metadata": {
        "id": "qnEIyu9gKq9h"
      }
    },
    {
      "cell_type": "code",
      "execution_count": 1,
      "metadata": {
        "colab": {
          "base_uri": "https://localhost:8080/"
        },
        "id": "REyGVE9sKYFf",
        "outputId": "ee83eb11-d199-496b-a283-8b6cd703ca2b"
      },
      "outputs": [
        {
          "output_type": "execute_result",
          "data": {
            "text/plain": [
              "{'celta', 'gol', 'palio'}"
            ]
          },
          "metadata": {},
          "execution_count": 1
        }
      ],
      "source": [
        "set([1, 2, 3, 4, 1, 3]) # {1, 2, 3, 4}\n",
        "\n",
        "set(\"abacaxi\") # b a c x i\n",
        "\n",
        "set((\"palio\", \"gol\", \"celta\", \"palio\")) # palio, gol, celta"
      ]
    },
    {
      "cell_type": "markdown",
      "source": [
        "## Acessando os dados"
      ],
      "metadata": {
        "id": "ED4CuaEFLeXn"
      }
    },
    {
      "cell_type": "code",
      "source": [
        "numeros = {1, 2, 3, 4}\n",
        "\n",
        "numeros = list(numeros)\n",
        "\n",
        "numeros[0]"
      ],
      "metadata": {
        "colab": {
          "base_uri": "https://localhost:8080/"
        },
        "id": "4SK7SQSkLiOu",
        "outputId": "58345b06-66cd-43b9-ff9e-3f39d8745020"
      },
      "execution_count": 2,
      "outputs": [
        {
          "output_type": "execute_result",
          "data": {
            "text/plain": [
              "1"
            ]
          },
          "metadata": {},
          "execution_count": 2
        }
      ]
    },
    {
      "cell_type": "markdown",
      "source": [
        "## Iterar conjuntos"
      ],
      "metadata": {
        "id": "EGxiXIujL89u"
      }
    },
    {
      "cell_type": "code",
      "source": [
        "carros = {\"gol\", \"celta\", \"palio\"}\n",
        "\n",
        "for carro in carros:\n",
        "  print(carros)"
      ],
      "metadata": {
        "colab": {
          "base_uri": "https://localhost:8080/"
        },
        "id": "TIT4fnIUMB1a",
        "outputId": "2d6616db-5414-49c6-9bfc-fd257d47bc1b"
      },
      "execution_count": 5,
      "outputs": [
        {
          "output_type": "stream",
          "name": "stdout",
          "text": [
            "{'celta', 'palio', 'gol'}\n",
            "{'celta', 'palio', 'gol'}\n",
            "{'celta', 'palio', 'gol'}\n"
          ]
        }
      ]
    },
    {
      "cell_type": "markdown",
      "source": [
        "## Enumerate"
      ],
      "metadata": {
        "id": "DF-_tBXuMe0H"
      }
    },
    {
      "cell_type": "code",
      "source": [
        "carros = {\"gol\", \"celta\", \"palio\"}\n",
        "\n",
        "for i, carro in enumerate(carros):\n",
        "  print(f\"{i}: {carros}\")"
      ],
      "metadata": {
        "colab": {
          "base_uri": "https://localhost:8080/"
        },
        "id": "M6DQqg3IMmh1",
        "outputId": "ebf4874a-0a2b-469e-c105-f1b50ca5ae3d"
      },
      "execution_count": 6,
      "outputs": [
        {
          "output_type": "stream",
          "name": "stdout",
          "text": [
            "0: {'celta', 'palio', 'gol'}\n",
            "1: {'celta', 'palio', 'gol'}\n",
            "2: {'celta', 'palio', 'gol'}\n"
          ]
        }
      ]
    }
  ]
}