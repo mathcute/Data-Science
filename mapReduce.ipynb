{
  "nbformat": 4,
  "nbformat_minor": 0,
  "metadata": {
    "colab": {
      "provenance": [],
      "authorship_tag": "ABX9TyPbwGquPdtK/tWLA9/rcEAu",
      "include_colab_link": true
    },
    "kernelspec": {
      "name": "python3",
      "display_name": "Python 3"
    },
    "language_info": {
      "name": "python"
    }
  },
  "cells": [
    {
      "cell_type": "markdown",
      "metadata": {
        "id": "view-in-github",
        "colab_type": "text"
      },
      "source": [
        "<a href=\"https://colab.research.google.com/github/mathcute/Data-Science/blob/main/mapReduce.ipynb\" target=\"_parent\"><img src=\"https://colab.research.google.com/assets/colab-badge.svg\" alt=\"Open In Colab\"/></a>"
      ]
    },
    {
      "cell_type": "markdown",
      "source": [
        "## Unir par-chave que esta em arquivos separados (map reduce)"
      ],
      "metadata": {
        "id": "UuoIm66aIBeC"
      }
    },
    {
      "cell_type": "code",
      "execution_count": 5,
      "metadata": {
        "id": "MUsVnbVXKlsL",
        "colab": {
          "base_uri": "https://localhost:8080/"
        },
        "outputId": "347f09f0-93d4-4b1c-dc19-07c954718324"
      },
      "outputs": [
        {
          "output_type": "stream",
          "name": "stdout",
          "text": [
            "{'maca pera uva morango': '5 10 2 20'}\n"
          ]
        }
      ],
      "source": [
        "caminho_arquivo_chaves = \"keys.txt\"\n",
        "caminho_arquivo_valores = \"values.txt\"\n",
        "\n",
        "dicionario_resultante = {}\n",
        "\n",
        "with open(caminho_arquivo_chaves, 'r') as arquivo_chaves, open(caminho_arquivo_valores, 'r') as arquivo_valores:\n",
        "    chaves = arquivo_chaves.read().splitlines()\n",
        "    valores = arquivo_valores.read().splitlines()\n",
        "\n",
        "    for chave, valor in zip(chaves, valores):\n",
        "        dicionario_resultante[chave] = valor\n",
        "\n",
        "print(dicionario_resultante)"
      ]
    }
  ]
}