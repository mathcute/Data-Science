{
  "nbformat": 4,
  "nbformat_minor": 0,
  "metadata": {
    "colab": {
      "provenance": [],
      "authorship_tag": "ABX9TyMfnumPcg9AOK3WIdj9Zx/B",
      "include_colab_link": true
    },
    "kernelspec": {
      "name": "python3",
      "display_name": "Python 3"
    },
    "language_info": {
      "name": "python"
    }
  },
  "cells": [
    {
      "cell_type": "markdown",
      "metadata": {
        "id": "view-in-github",
        "colab_type": "text"
      },
      "source": [
        "<a href=\"https://colab.research.google.com/github/mathcute/Data-Science/blob/main/Exception2.ipynb\" target=\"_parent\"><img src=\"https://colab.research.google.com/assets/colab-badge.svg\" alt=\"Open In Colab\"/></a>"
      ]
    },
    {
      "cell_type": "markdown",
      "source": [
        "##EXEMPLO 1"
      ],
      "metadata": {
        "id": "YPhQJmma_J9E"
      }
    },
    {
      "cell_type": "code",
      "execution_count": 1,
      "metadata": {
        "id": "4PwPoopB_FzI"
      },
      "outputs": [],
      "source": [
        "def ReadFile():\n",
        "\n",
        "  try:\n",
        "\n",
        "    print(\"Abrindo um arquivo!\")\n",
        "    open('teste.txt', 'r')\n",
        "\n",
        "  except FileNotFoundError:\n",
        "\n",
        "    print(\"Arquivo nao encontrado pelo compilador!\")"
      ]
    },
    {
      "cell_type": "markdown",
      "source": [
        "##EXEMPLO 2"
      ],
      "metadata": {
        "id": "vkZPEjOoBFM7"
      }
    },
    {
      "cell_type": "code",
      "source": [
        "def ReadFile():\n",
        "\n",
        "  try:\n",
        "\n",
        "    print(\"Abrindo um arquivo!\")\n",
        "    open('teste.txt', 'r')\n",
        "\n",
        "  except FileNotFoundError as captura:\n",
        "\n",
        "    print(captura)"
      ],
      "metadata": {
        "id": "pdHYCaQFBHX4"
      },
      "execution_count": 2,
      "outputs": []
    }
  ]
}