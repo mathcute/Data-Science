{
  "nbformat": 4,
  "nbformat_minor": 0,
  "metadata": {
    "colab": {
      "provenance": [],
      "authorship_tag": "ABX9TyPWemRb/K9xg+o3ZXQewNQr",
      "include_colab_link": true
    },
    "kernelspec": {
      "name": "python3",
      "display_name": "Python 3"
    },
    "language_info": {
      "name": "python"
    }
  },
  "cells": [
    {
      "cell_type": "markdown",
      "metadata": {
        "id": "view-in-github",
        "colab_type": "text"
      },
      "source": [
        "<a href=\"https://colab.research.google.com/github/mathcute/Data-Science/blob/main/ExerciciosPython3.ipynb\" target=\"_parent\"><img src=\"https://colab.research.google.com/assets/colab-badge.svg\" alt=\"Open In Colab\"/></a>"
      ]
    },
    {
      "cell_type": "markdown",
      "source": [
        "##Deseja-se contar a ocorrência de palavras de arquivos. Leia os arquivos“contar1.txt” e “contar2.txt” faça a contagem de palavras, somando as contagens das chaves em comum."
      ],
      "metadata": {
        "id": "jNkh_Wg2TNz4"
      }
    },
    {
      "cell_type": "code",
      "execution_count": null,
      "metadata": {
        "id": "tJHyhDRUTIZg"
      },
      "outputs": [],
      "source": [
        "from collections import Counter\n",
        "import json\n",
        "\n",
        "with open(\"contar1.txt\", 'r') as f, open(\"contar2.txt\", 'r') as r:\n",
        "\n",
        "    dic_content = f.read()\n",
        "    dic = json.loads(dic_content)\n",
        "\n",
        "    dic1_content = r.read()\n",
        "    dic1 = json.loads(dic1_content)\n",
        "\n",
        "    count = Counter(dic) + Counter(dic1)\n",
        "\n",
        "    print(count)\n",
        "\n"
      ]
    }
  ]
}