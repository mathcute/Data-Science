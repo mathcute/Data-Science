{
  "nbformat": 4,
  "nbformat_minor": 0,
  "metadata": {
    "colab": {
      "provenance": [],
      "authorship_tag": "ABX9TyPG+gV4tb7ecSvhUnJ8AmaX",
      "include_colab_link": true
    },
    "kernelspec": {
      "name": "python3",
      "display_name": "Python 3"
    },
    "language_info": {
      "name": "python"
    }
  },
  "cells": [
    {
      "cell_type": "markdown",
      "metadata": {
        "id": "view-in-github",
        "colab_type": "text"
      },
      "source": [
        "<a href=\"https://colab.research.google.com/github/mathcute/Data-Science/blob/main/Numpy2.ipynb\" target=\"_parent\"><img src=\"https://colab.research.google.com/assets/colab-badge.svg\" alt=\"Open In Colab\"/></a>"
      ]
    },
    {
      "cell_type": "markdown",
      "source": [
        "##Principais Atributos: Slicing"
      ],
      "metadata": {
        "id": "GYOrHtaMeu6V"
      }
    },
    {
      "cell_type": "code",
      "execution_count": null,
      "metadata": {
        "id": "b-YYaNQpePeL"
      },
      "outputs": [],
      "source": [
        "import numpy as np\n",
        "\n",
        "vetor = np.arange(1, 20, 1)\n",
        "\n",
        "print(vetor)\n",
        "\n",
        "vetor[1:6] = 20\n",
        "\n",
        "print(vetor)"
      ]
    },
    {
      "cell_type": "markdown",
      "source": [
        "##Função matemática"
      ],
      "metadata": {
        "id": "jVMep5mIfESy"
      }
    },
    {
      "cell_type": "code",
      "source": [
        "vetor = np.arange(3)\n",
        "\n",
        "print(np.exp(vetor))\n",
        "\n",
        "print(np.sqrt(vetor))"
      ],
      "metadata": {
        "colab": {
          "base_uri": "https://localhost:8080/"
        },
        "id": "WnL8bi-ufIoJ",
        "outputId": "a8bfbe26-d3ba-472e-dfb1-4795175b916b"
      },
      "execution_count": 2,
      "outputs": [
        {
          "output_type": "stream",
          "name": "stdout",
          "text": [
            "[1.         2.71828183 7.3890561 ]\n",
            "[0.         1.         1.41421356]\n"
          ]
        }
      ]
    }
  ]
}