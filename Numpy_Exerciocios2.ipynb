{
  "nbformat": 4,
  "nbformat_minor": 0,
  "metadata": {
    "colab": {
      "provenance": [],
      "collapsed_sections": [
        "e_VyihjWdqH6",
        "uLOHYQY7fBP2"
      ],
      "authorship_tag": "ABX9TyN4zAqOxikoUUatrT7rovl1",
      "include_colab_link": true
    },
    "kernelspec": {
      "name": "python3",
      "display_name": "Python 3"
    },
    "language_info": {
      "name": "python"
    }
  },
  "cells": [
    {
      "cell_type": "markdown",
      "metadata": {
        "id": "view-in-github",
        "colab_type": "text"
      },
      "source": [
        "<a href=\"https://colab.research.google.com/github/mathcute/Data-Science/blob/main/Numpy_Exerciocios2.ipynb\" target=\"_parent\"><img src=\"https://colab.research.google.com/assets/colab-badge.svg\" alt=\"Open In Colab\"/></a>"
      ]
    },
    {
      "cell_type": "markdown",
      "source": [
        "##6. Crie um array NumPy com valores aleatórios inteiros entre 1 e 100 (inclusive) e encontre os seguintes estatísticas:\n",
        "a) Média\n",
        "b) Desvio padrão\n",
        "c) Mediana\n",
        "d) Valor mínimo\n",
        "e) Valor máximo"
      ],
      "metadata": {
        "id": "e_VyihjWdqH6"
      }
    },
    {
      "cell_type": "code",
      "execution_count": null,
      "metadata": {
        "colab": {
          "base_uri": "https://localhost:8080/"
        },
        "id": "WUUgx7mJdnn1",
        "outputId": "d25fa265-ebe3-46b7-a27d-a195bc92fdff"
      },
      "outputs": [
        {
          "output_type": "stream",
          "name": "stdout",
          "text": [
            "94\n"
          ]
        }
      ],
      "source": [
        "import numpy as np\n",
        "\n",
        "array = np.random.randint(0, 100, size = 10)\n",
        "\n",
        "media = np.mean(array)\n",
        "\n",
        "desvio_padrao = np.std(array)\n",
        "\n",
        "mediana = np.median(array)\n",
        "\n",
        "min = np.min(array)\n",
        "\n",
        "max = np.max(array)\n",
        "\n",
        "print(max)"
      ]
    },
    {
      "cell_type": "markdown",
      "source": [
        "##7. Crie um array NumPy de 100 elementos inteiros aleatórios entre 1 e 10 (inclusive). Em seguida, calcule a soma cumulativa dos elementos."
      ],
      "metadata": {
        "id": "uLOHYQY7fBP2"
      }
    },
    {
      "cell_type": "code",
      "source": [
        "array = np.random.randint(1, 10, size = 10)\n",
        "\n",
        "array_soma = np.cumsum(array)\n",
        "\n",
        "print(array_soma)"
      ],
      "metadata": {
        "colab": {
          "base_uri": "https://localhost:8080/"
        },
        "id": "zzx3c0H-fHNt",
        "outputId": "37ef2547-bd6d-463f-cd47-0e3a04076488"
      },
      "execution_count": null,
      "outputs": [
        {
          "output_type": "stream",
          "name": "stdout",
          "text": [
            "[ 5  6  7 12 15 24 27 32 37 40]\n"
          ]
        }
      ]
    },
    {
      "cell_type": "markdown",
      "source": [
        "##8. Crie um array NumPy de números inteiros de 1 a 20 (inclusive), excluindo os múltiplos de 3. Em seguida, encontre a soma dos elementos desse array"
      ],
      "metadata": {
        "id": "fzKntNwGf03T"
      }
    },
    {
      "cell_type": "code",
      "source": [
        "array = np.random.randint(1, 20, size = 10)\n",
        "\n",
        "for i in range(len(array)):\n",
        "\n",
        "  if (array[i] % 3 == 0):\n",
        "\n",
        "    array[i].remove(array)\n",
        "\n",
        "    array[i].sum(array)"
      ],
      "metadata": {
        "id": "CQXOjteIf3Vm"
      },
      "execution_count": null,
      "outputs": []
    },
    {
      "cell_type": "markdown",
      "source": [
        "##9. Desenvolva dois arrays NumPy A e B de tamanho 5x5 preenchidos com números aleatórios inteiros entre 1 e 10. Realize a multiplicação de matriz."
      ],
      "metadata": {
        "id": "3LGy7BIIjDib"
      }
    },
    {
      "cell_type": "code",
      "source": [
        "array_a = np.random.randint(1, 10, size = (5, 5))\n",
        "\n",
        "array_b = np.random.randint(1, 10, size = (5, 5))\n",
        "\n",
        "multiplicacao = np.dot(array_a, array_b)\n",
        "\n",
        "print(multiplicacao)"
      ],
      "metadata": {
        "id": "S4C1dMRRjmQy",
        "colab": {
          "base_uri": "https://localhost:8080/"
        },
        "outputId": "94c5cbc8-15d7-4371-f094-73fbb75465c9"
      },
      "execution_count": null,
      "outputs": [
        {
          "output_type": "stream",
          "name": "stdout",
          "text": [
            "[[134 167 226 183 142]\n",
            " [ 69 129 143 121 122]\n",
            " [ 94 102 131 136  59]\n",
            " [130 180 206 209 149]\n",
            " [112 166 142 175 115]]\n"
          ]
        }
      ]
    },
    {
      "cell_type": "markdown",
      "source": [
        "##10.Crie um array NumPy com valores de 0 a 9 e, em seguida, embaralhe seus elementos de forma aleatória."
      ],
      "metadata": {
        "id": "H1EqwES8k0SO"
      }
    },
    {
      "cell_type": "code",
      "source": [
        "from random import shuffle\n",
        "\n",
        "array = np.arange(9)\n",
        "\n",
        "shuffle(array)\n",
        "\n",
        "print(array)"
      ],
      "metadata": {
        "colab": {
          "base_uri": "https://localhost:8080/"
        },
        "id": "7oqhTgEck4fV",
        "outputId": "d653232b-ddf9-4fc7-fed9-1cbf385d1293"
      },
      "execution_count": null,
      "outputs": [
        {
          "output_type": "stream",
          "name": "stdout",
          "text": [
            "[4 5 7 6 1 3 0 2 8]\n"
          ]
        }
      ]
    }
  ]
}