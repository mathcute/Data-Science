{
  "nbformat": 4,
  "nbformat_minor": 0,
  "metadata": {
    "colab": {
      "provenance": [],
      "authorship_tag": "ABX9TyNrb68n2kwW732TFuHpxqt9",
      "include_colab_link": true
    },
    "kernelspec": {
      "name": "python3",
      "display_name": "Python 3"
    },
    "language_info": {
      "name": "python"
    }
  },
  "cells": [
    {
      "cell_type": "markdown",
      "metadata": {
        "id": "view-in-github",
        "colab_type": "text"
      },
      "source": [
        "<a href=\"https://colab.research.google.com/github/mathcute/Data-Science/blob/main/manipulandoStrings2.ipynb\" target=\"_parent\"><img src=\"https://colab.research.google.com/assets/colab-badge.svg\" alt=\"Open In Colab\"/></a>"
      ]
    },
    {
      "cell_type": "markdown",
      "source": [
        "## Tamanho da String, através do método len()."
      ],
      "metadata": {
        "id": "Nfzp8xQfwfTi"
      }
    },
    {
      "cell_type": "code",
      "execution_count": null,
      "metadata": {
        "colab": {
          "base_uri": "https://localhost:8080/"
        },
        "id": "XPo9t81GwXiR",
        "outputId": "2e8c8a9f-e3d9-42c1-e463-b6e7d5d42e57"
      },
      "outputs": [
        {
          "output_type": "stream",
          "name": "stdout",
          "text": [
            "11\n"
          ]
        }
      ],
      "source": [
        "nome = \"carol maria\"\n",
        "\n",
        "print(len(nome))"
      ]
    },
    {
      "cell_type": "markdown",
      "source": [
        "## Join()"
      ],
      "metadata": {
        "id": "tXPvXrB6wz7H"
      }
    },
    {
      "cell_type": "code",
      "source": [
        "lista = [\"Arroz\", \"Feijao\", \"Macarrao\"]\n",
        "\n",
        "texto = \", \".join(lista)\n",
        "\n",
        "print(texto)"
      ],
      "metadata": {
        "colab": {
          "base_uri": "https://localhost:8080/"
        },
        "id": "UAzdRLD2w59e",
        "outputId": "bdcf5c0b-8807-4828-9681-02c589ecb46b"
      },
      "execution_count": null,
      "outputs": [
        {
          "output_type": "stream",
          "name": "stdout",
          "text": [
            "Arroz, Feijao, Macarrao\n"
          ]
        }
      ]
    },
    {
      "cell_type": "markdown",
      "source": [
        "## Saber como inicia a String, através do método startswith().\n"
      ],
      "metadata": {
        "id": "7P4LLDTox1AC"
      }
    },
    {
      "cell_type": "code",
      "source": [
        "nome = \"carol maria\"\n",
        "\n",
        "print(nome.startswith(\"carol\"))"
      ],
      "metadata": {
        "colab": {
          "base_uri": "https://localhost:8080/"
        },
        "id": "7WdeGbzjx4fl",
        "outputId": "a61465ab-c8f6-4374-c469-2750210a48de"
      },
      "execution_count": null,
      "outputs": [
        {
          "output_type": "stream",
          "name": "stdout",
          "text": [
            "True\n"
          ]
        }
      ]
    },
    {
      "cell_type": "markdown",
      "source": [
        "## – Busca de caracteres"
      ],
      "metadata": {
        "id": "-kMxkwa4yDR6"
      }
    },
    {
      "cell_type": "code",
      "source": [
        "nome = \"carol maria\"\n",
        "\n",
        "print(\"m\" in nome)\n",
        "print(\"y\" in nome)"
      ],
      "metadata": {
        "colab": {
          "base_uri": "https://localhost:8080/"
        },
        "id": "sBXVqpYCyG5L",
        "outputId": "862a4f9c-b01d-4967-d507-f8bd10252c28"
      },
      "execution_count": null,
      "outputs": [
        {
          "output_type": "stream",
          "name": "stdout",
          "text": [
            "True\n",
            "False\n"
          ]
        }
      ]
    }
  ]
}