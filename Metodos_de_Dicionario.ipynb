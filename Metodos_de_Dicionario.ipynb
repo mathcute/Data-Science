{
  "nbformat": 4,
  "nbformat_minor": 0,
  "metadata": {
    "colab": {
      "provenance": [],
      "authorship_tag": "ABX9TyM52osqWG4PkzCcqHSa/Crj",
      "include_colab_link": true
    },
    "kernelspec": {
      "name": "python3",
      "display_name": "Python 3"
    },
    "language_info": {
      "name": "python"
    }
  },
  "cells": [
    {
      "cell_type": "markdown",
      "metadata": {
        "id": "view-in-github",
        "colab_type": "text"
      },
      "source": [
        "<a href=\"https://colab.research.google.com/github/mathcute/Data-Science/blob/main/Metodos_de_Dicionario.ipynb\" target=\"_parent\"><img src=\"https://colab.research.google.com/assets/colab-badge.svg\" alt=\"Open In Colab\"/></a>"
      ]
    },
    {
      "cell_type": "markdown",
      "source": [
        "##Métodos de Dicionário (clear())"
      ],
      "metadata": {
        "id": "iCZ7PH5zIN5P"
      }
    },
    {
      "cell_type": "code",
      "execution_count": null,
      "metadata": {
        "id": "NRgdtZjdII2k"
      },
      "outputs": [],
      "source": [
        "dic = {\"nome\": \"whatever\", \"idade\": 100}\n",
        "\n",
        "dic[\"telefone\"] = 0000-1111\n",
        "\n",
        "dic.clear()"
      ]
    },
    {
      "cell_type": "markdown",
      "source": [
        "##Copy()"
      ],
      "metadata": {
        "id": "yOubQhcGImEl"
      }
    },
    {
      "cell_type": "code",
      "source": [
        "dic = {\"nome\": \"whatever\", \"idade\": 100}\n",
        "\n",
        "dic[\"telefone\"] = 0000-1111\n",
        "\n",
        "dic.copy()\n",
        "\n",
        "print(dic)"
      ],
      "metadata": {
        "colab": {
          "base_uri": "https://localhost:8080/"
        },
        "id": "wka_kqiTIpiw",
        "outputId": "cb8016b6-157f-4b05-b996-83cd208e50a2"
      },
      "execution_count": 1,
      "outputs": [
        {
          "output_type": "stream",
          "name": "stdout",
          "text": [
            "{'nome': 'whatever', 'idade': 100, 'telefone': -1111}\n"
          ]
        }
      ]
    },
    {
      "cell_type": "markdown",
      "source": [
        "##fromkeys()"
      ],
      "metadata": {
        "id": "A6y4INGFI2D6"
      }
    },
    {
      "cell_type": "code",
      "source": [
        "dic = {\"nome\": \"whatever\", \"idade\": 100}\n",
        "\n",
        "dic[\"telefone\"] = 0000-1111\n",
        "\n",
        "dic.fromkeys([\"nome\", \"telefone\"]) # NONE\n",
        "\n",
        "dic.fromkeys([\"nome\", \"telefone\"], \"vazio\")"
      ],
      "metadata": {
        "colab": {
          "base_uri": "https://localhost:8080/"
        },
        "id": "pZyLb6zWI6Ab",
        "outputId": "62194e51-5556-4de0-f35f-5f90f7871a5c"
      },
      "execution_count": 2,
      "outputs": [
        {
          "output_type": "execute_result",
          "data": {
            "text/plain": [
              "{'nome': 'vazio', 'telefone': 'vazio'}"
            ]
          },
          "metadata": {},
          "execution_count": 2
        }
      ]
    },
    {
      "cell_type": "markdown",
      "source": [
        "##.get()"
      ],
      "metadata": {
        "id": "lenuyrzuSSHP"
      }
    },
    {
      "cell_type": "code",
      "source": [
        "dic = {\"nome\": \"whatever\", \"idade\": 100}\n",
        "\n",
        "dic[\"telefone\"] = 0000-1111\n",
        "\n",
        "dic[\"chave\"] #Key Error\n",
        "\n",
        "dic.get(\"chave\") #None\n",
        "dic.get(\"nome\") #whatever"
      ],
      "metadata": {
        "id": "PTxmes3ySbBt"
      },
      "execution_count": null,
      "outputs": []
    },
    {
      "cell_type": "markdown",
      "source": [
        "##.pop()"
      ],
      "metadata": {
        "id": "qn0jZ07US-K-"
      }
    },
    {
      "cell_type": "code",
      "source": [
        "dic = {\"nome\": \"whatever\", \"idade\": 100}\n",
        "\n",
        "dic[\"telefone\"] = 0000-1111\n",
        "\n",
        "dic.pop(\"nome\", {}) # {}"
      ],
      "metadata": {
        "id": "bbtFS1BgTER1"
      },
      "execution_count": null,
      "outputs": []
    }
  ]
}