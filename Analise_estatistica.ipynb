{
  "nbformat": 4,
  "nbformat_minor": 0,
  "metadata": {
    "colab": {
      "provenance": [],
      "collapsed_sections": [
        "nPdYrDZ3hqPC",
        "CsdVRL-siGQk"
      ],
      "authorship_tag": "ABX9TyMeNRuaPhJbbu/jz6syhBCS",
      "include_colab_link": true
    },
    "kernelspec": {
      "name": "python3",
      "display_name": "Python 3"
    },
    "language_info": {
      "name": "python"
    }
  },
  "cells": [
    {
      "cell_type": "markdown",
      "metadata": {
        "id": "view-in-github",
        "colab_type": "text"
      },
      "source": [
        "<a href=\"https://colab.research.google.com/github/mathcute/Data-Science/blob/main/Analise_estatistica.ipynb\" target=\"_parent\"><img src=\"https://colab.research.google.com/assets/colab-badge.svg\" alt=\"Open In Colab\"/></a>"
      ]
    },
    {
      "cell_type": "code",
      "execution_count": null,
      "metadata": {
        "colab": {
          "base_uri": "https://localhost:8080/"
        },
        "id": "vE0dq97WfNGK",
        "outputId": "69661a84-1c76-40bd-cb94-0e4e0ab5c6f2"
      },
      "outputs": [
        {
          "output_type": "stream",
          "name": "stdout",
          "text": [
            "<class 'pandas.core.frame.DataFrame'>\n",
            "RangeIndex: 6769 entries, 0 to 6768\n",
            "Data columns (total 22 columns):\n",
            " #   Column                          Non-Null Count  Dtype \n",
            "---  ------                          --------------  ----- \n",
            " 0   codigo_ocorrencia               6769 non-null   int64 \n",
            " 1   codigo_ocorrencia1              6769 non-null   int64 \n",
            " 2   codigo_ocorrencia2              6769 non-null   int64 \n",
            " 3   codigo_ocorrencia3              6769 non-null   int64 \n",
            " 4   codigo_ocorrencia4              6769 non-null   int64 \n",
            " 5   ocorrencia_classificacao        6769 non-null   object\n",
            " 6   ocorrencia_latitude             5135 non-null   object\n",
            " 7   ocorrencia_longitude            5135 non-null   object\n",
            " 8   ocorrencia_cidade               6769 non-null   object\n",
            " 9   ocorrencia_uf                   6769 non-null   object\n",
            " 10  ocorrencia_pais                 6769 non-null   object\n",
            " 11  ocorrencia_aerodromo            6769 non-null   object\n",
            " 12  ocorrencia_dia                  6769 non-null   object\n",
            " 13  ocorrencia_hora                 6767 non-null   object\n",
            " 14  investigacao_aeronave_liberada  6531 non-null   object\n",
            " 15  investigacao_status             6428 non-null   object\n",
            " 16  divulgacao_relatorio_numero     5987 non-null   object\n",
            " 17  divulgacao_relatorio_publicado  6769 non-null   object\n",
            " 18  divulgacao_dia_publicacao       1781 non-null   object\n",
            " 19  total_recomendacoes             6769 non-null   int64 \n",
            " 20  total_aeronaves_envolvidas      6769 non-null   int64 \n",
            " 21  ocorrencia_saida_pista          6769 non-null   object\n",
            "dtypes: int64(7), object(15)\n",
            "memory usage: 1.1+ MB\n"
          ]
        }
      ],
      "source": [
        "import pandas as pd\n",
        "\n",
        "data = pd.read_csv('https://raw.githubusercontent.com/mathcute/Data-Science/main/dados', encoding = 'latin-1', sep = ';')\n",
        "\n",
        "data.info()"
      ]
    },
    {
      "cell_type": "markdown",
      "source": [
        "##Contando elementos de uma coluna"
      ],
      "metadata": {
        "id": "nPdYrDZ3hqPC"
      }
    },
    {
      "cell_type": "code",
      "source": [
        "data['ocorrencia_cidade'].value_counts()"
      ],
      "metadata": {
        "colab": {
          "base_uri": "https://localhost:8080/"
        },
        "id": "NTFk-ef2huAG",
        "outputId": "11523bf3-c5a0-44c0-e27a-412b00f45680"
      },
      "execution_count": null,
      "outputs": [
        {
          "output_type": "execute_result",
          "data": {
            "text/plain": [
              "RIO DE JANEIRO               366\n",
              "Sï¿½O PAULO                  324\n",
              "BELO HORIZONTE               211\n",
              "CAMPINAS                     209\n",
              "GUARULHOS                    183\n",
              "                            ... \n",
              "BARRO ALTO                     1\n",
              "CRUZ MACHADO                   1\n",
              "Sï¿½O LOURENï¿½O DA SERRA      1\n",
              "LAJEADO GRANDE                 1\n",
              "FAROL                          1\n",
              "Name: ocorrencia_cidade, Length: 1195, dtype: int64"
            ]
          },
          "metadata": {},
          "execution_count": 4
        }
      ]
    },
    {
      "cell_type": "code",
      "source": [
        "data['ocorrencia_classificacao'].value_counts()"
      ],
      "metadata": {
        "colab": {
          "base_uri": "https://localhost:8080/"
        },
        "id": "8aaM4bbFh2YQ",
        "outputId": "38b8ce61-e5a9-4824-93e1-8d5e8a12a23f"
      },
      "execution_count": null,
      "outputs": [
        {
          "output_type": "execute_result",
          "data": {
            "text/plain": [
              "INCIDENTE          3795\n",
              "ACIDENTE           2090\n",
              "INCIDENTE GRAVE     884\n",
              "Name: ocorrencia_classificacao, dtype: int64"
            ]
          },
          "metadata": {},
          "execution_count": 5
        }
      ]
    },
    {
      "cell_type": "code",
      "source": [
        "data['investigacao_status'].value_counts()"
      ],
      "metadata": {
        "colab": {
          "base_uri": "https://localhost:8080/"
        },
        "id": "joGm0QCqh32f",
        "outputId": "322f91df-1e7d-4162-e805-8fd9d42335b4"
      },
      "execution_count": null,
      "outputs": [
        {
          "output_type": "execute_result",
          "data": {
            "text/plain": [
              "FINALIZADA    6013\n",
              "ATIVA          415\n",
              "Name: investigacao_status, dtype: int64"
            ]
          },
          "metadata": {},
          "execution_count": 7
        }
      ]
    },
    {
      "cell_type": "markdown",
      "source": [
        "##Filtrar as ocorrências de acordo com o mês da data:\n",
        "1. Converter a coluna para formato data;\n",
        "2. Efetuar o filtro por mês"
      ],
      "metadata": {
        "id": "CsdVRL-siGQk"
      }
    },
    {
      "cell_type": "code",
      "source": [
        "from sqlalchemy import between\n",
        "data['ocorrencia_dia'] = pd.to_datetime(data['ocorrencia_dia'], format = '%d/%m/%Y')\n",
        "\n",
        "\n",
        "\n",
        "mes_especifico = int(input(\"Digite o mes desejado: \"))\n",
        "\n",
        "if mes_especifico > 0 and mes_especifico <= 12:\n",
        "\n",
        "  df_filtrado = data[data['ocorrencia_dia'].dt.month == mes_especifico]\n",
        "  print(df_filtrado)\n",
        "\n",
        "else:\n",
        "\n",
        "  print(\"Nao existe esse mês\")"
      ],
      "metadata": {
        "colab": {
          "base_uri": "https://localhost:8080/"
        },
        "id": "tASalZe3iHXc",
        "outputId": "3f7d254a-574c-48f6-afed-4ae06053e19e"
      },
      "execution_count": null,
      "outputs": [
        {
          "name": "stdout",
          "output_type": "stream",
          "text": [
            "Digite o mes desejado: 10\n"
          ]
        }
      ]
    },
    {
      "cell_type": "markdown",
      "source": [
        "##Carregar datasets"
      ],
      "metadata": {
        "id": "g7W1rjoombDT"
      }
    },
    {
      "cell_type": "code",
      "source": [
        "data = {'App': ['Cloudmagic', 'Smartr', 'Sunrise Calendar', 'Free-time', 'Pocket', 'Wunderlist', 'Files Google'],\n",
        "        'ms': [12, 17, 11, 16, 16, 12, 18]}\n",
        "\n",
        "df = pd.DataFrame(data)\n",
        "\n",
        "df['ms'].mean()\n",
        "\n",
        "df['ms'].median()\n",
        "\n",
        "df['ms'].mode()\n",
        "\n",
        "df['ms'].describe()\n",
        "\n",
        "result = df.loc[df['ms'] == 16]\n",
        "\n",
        "result = df.loc[df['ms'] >= 16]\n",
        "\n",
        "result.plot.bar(x = 'App')"
      ],
      "metadata": {
        "id": "EXZc20Bxmekr",
        "colab": {
          "base_uri": "https://localhost:8080/",
          "height": 536
        },
        "outputId": "5e60e821-4cd1-47cd-b736-80791f695e1d"
      },
      "execution_count": null,
      "outputs": [
        {
          "output_type": "execute_result",
          "data": {
            "text/plain": [
              "<Axes: xlabel='App'>"
            ]
          },
          "metadata": {},
          "execution_count": 27
        },
        {
          "output_type": "display_data",
          "data": {
            "text/plain": [
              "<Figure size 640x480 with 1 Axes>"
            ],
            "image/png": "[encoded data removed]"
          },
          "metadata": {}
        }
      ]
    }
  ]
}