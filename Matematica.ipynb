{
  "nbformat": 4,
  "nbformat_minor": 0,
  "metadata": {
    "colab": {
      "provenance": [],
      "collapsed_sections": [
        "x01Rm30n0RNZ"
      ],
      "authorship_tag": "ABX9TyN0gpbjb6J/zPs1JU0QKkQK",
      "include_colab_link": true
    },
    "kernelspec": {
      "name": "python3",
      "display_name": "Python 3"
    },
    "language_info": {
      "name": "python"
    }
  },
  "cells": [
    {
      "cell_type": "markdown",
      "metadata": {
        "id": "view-in-github",
        "colab_type": "text"
      },
      "source": [
        "<a href=\"https://colab.research.google.com/github/mathcute/Data-Science/blob/main/Matematica.ipynb\" target=\"_parent\"><img src=\"https://colab.research.google.com/assets/colab-badge.svg\" alt=\"Open In Colab\"/></a>"
      ]
    },
    {
      "cell_type": "markdown",
      "source": [
        "##Progressao Aritmetica"
      ],
      "metadata": {
        "id": "x01Rm30n0RNZ"
      }
    },
    {
      "cell_type": "code",
      "source": [
        "def pa_naturais(n):\n",
        "\n",
        "  an = 0 + (n - 1) * 1\n",
        "  print(an)\n",
        "\n",
        "pa_naturais(5)"
      ],
      "metadata": {
        "colab": {
          "base_uri": "https://localhost:8080/"
        },
        "id": "ez16H11p0PD-",
        "outputId": "b4b8deb1-065a-4007-8895-8695a4409626"
      },
      "execution_count": null,
      "outputs": [
        {
          "output_type": "stream",
          "name": "stdout",
          "text": [
            "4\n"
          ]
        }
      ]
    },
    {
      "cell_type": "markdown",
      "source": [
        "##Sequencia de naturais até o respectivo indice"
      ],
      "metadata": {
        "id": "brT9Yf3U1Hiz"
      }
    },
    {
      "cell_type": "code",
      "source": [
        "def pa_naturais_seq(n):\n",
        "\n",
        "  for i in range(1, n + 1):\n",
        "\n",
        "    an = 0 + (i - 1) * 1\n",
        "    print(an)\n",
        "\n",
        "pa_naturais_seq(5)"
      ],
      "metadata": {
        "colab": {
          "base_uri": "https://localhost:8080/"
        },
        "id": "EdqRRBfq1RRV",
        "outputId": "71abeccb-ac3c-4bfa-c13e-5af78c34447d"
      },
      "execution_count": null,
      "outputs": [
        {
          "output_type": "stream",
          "name": "stdout",
          "text": [
            "0\n",
            "1\n",
            "2\n",
            "3\n",
            "4\n"
          ]
        }
      ]
    },
    {
      "cell_type": "markdown",
      "source": [
        "###Caso particular da soma de dois números a e b de modo que o número resultante seja um número natural"
      ],
      "metadata": {
        "id": "b42GWT2nAI9y"
      }
    },
    {
      "cell_type": "code",
      "source": [
        "a = int(input(\"Digite um numero: \"))\n",
        "b = int(input(\"Digite outro numero: \"))\n",
        "\n",
        "while a < b:\n",
        "\n",
        "  a = int(input(\"Digite o primeiro numero novamente: \"))\n",
        "\n",
        "y = a - b\n",
        "print(y)"
      ],
      "metadata": {
        "id": "_ZgVO244AKLC",
        "colab": {
          "base_uri": "https://localhost:8080/"
        },
        "outputId": "1d8fc89f-9da9-497d-9eb5-cf7600df9a85"
      },
      "execution_count": 1,
      "outputs": [
        {
          "output_type": "stream",
          "name": "stdout",
          "text": [
            "Digite um numero: 10\n",
            "Digite outro numero: 21\n",
            "Digite o primeiro numero novamente: 10\n",
            "Digite o primeiro numero novamente: 22\n",
            "1\n"
          ]
        }
      ]
    },
    {
      "cell_type": "markdown",
      "source": [
        "##Conjunto de numeros reais\n"
      ],
      "metadata": {
        "id": "WawudwUYk9AN"
      }
    },
    {
      "cell_type": "code",
      "source": [
        "#r2 com dados reais (plano cartesiano e gráfico de dispersão de dados)\n",
        "\n",
        "import matplotlib.pyplot as plt #biblioteca para a visualização de dados em Python\n",
        "\n",
        "idades = [70, 65, 72, 63, 71, 64, 60, 64, 67]\n",
        "alturas = [175, 170, 198, 174, 155, 130, 105, 145, 162]\n",
        "pessoas = ['a', 'b', 'c', 'd', 'e', 'f', 'g', 'h', 'i']\n",
        "plt.scatter(idades, alturas) #cria um gráfico de dispersão usando os dados anteriores\n",
        "for pessoas_count, idades_count, alturas_count in zip(pessoas, idades, alturas):\n",
        "    plt.annotate(pessoas_count, xy=(idades_count, alturas_count), xytext=(5, -5), textcoords='offset points')\n",
        "plt.title(\"Idades vs Alturas de amigos\")\n",
        "plt.xlabel(\"Idades\")\n",
        "plt.ylabel(\"Alturas\")\n",
        "plt.show()"
      ],
      "metadata": {
        "colab": {
          "base_uri": "https://localhost:8080/",
          "height": 472
        },
        "id": "XuDgazL9lAn5",
        "outputId": "63921f7f-594f-4d5d-f3fe-0df8066c6820"
      },
      "execution_count": 2,
      "outputs": [
        {
          "output_type": "display_data",
          "data": {
            "text/plain": [
              "<Figure size 640x480 with 1 Axes>"
            ],
            "image/png": "[encoded data removed]"
          },
          "metadata": {}
        }
      ]
    },
    {
      "cell_type": "markdown",
      "source": [
        "##Entendendo o ZIP"
      ],
      "metadata": {
        "id": "Vt7O9jtA4wUF"
      }
    },
    {
      "cell_type": "code",
      "source": [
        "zip_a = zip(pessoas, idades, alturas)\n",
        "list(zip_a)"
      ],
      "metadata": {
        "colab": {
          "base_uri": "https://localhost:8080/"
        },
        "id": "l0qEGH0U42DB",
        "outputId": "481c6eb7-9d97-475b-a4f0-cf5bee8e748c"
      },
      "execution_count": 3,
      "outputs": [
        {
          "output_type": "execute_result",
          "data": {
            "text/plain": [
              "[('a', 70, 175),\n",
              " ('b', 65, 170),\n",
              " ('c', 72, 198),\n",
              " ('d', 63, 174),\n",
              " ('e', 71, 155),\n",
              " ('f', 64, 130),\n",
              " ('g', 60, 105),\n",
              " ('h', 64, 145),\n",
              " ('i', 67, 162)]"
            ]
          },
          "metadata": {},
          "execution_count": 3
        }
      ]
    },
    {
      "cell_type": "markdown",
      "source": [
        "##Espaço R3"
      ],
      "metadata": {
        "id": "qfPBeaVy5HH1"
      }
    },
    {
      "cell_type": "code",
      "source": [
        "#espaço r3 com dados reais (gráfico de dispersão 3d)\n",
        "\n",
        "from mpl_toolkits import mplot3d\n",
        "\n",
        "idades = [70, 65, 72, 63, 71, 64, 60, 64, 67]\n",
        "alturas = [175, 170, 198, 174, 155, 130, 105, 145, 162]\n",
        "peso = [65, 45, 78, 79, 82, 64, 77, 95, 110]\n",
        "pessoas = ['a', 'b', 'c', 'd', 'e', 'f', 'g', 'h', 'i']\n",
        "\n",
        "fig = plt.figure()\n",
        "ax = plt.axes(projection='3d')\n",
        "ax.scatter3D(idades, alturas, peso, 'gray')\n",
        "ax.set_xlabel('idades')\n",
        "ax.set_ylabel('alturas')\n",
        "ax.set_zlabel('peso');"
      ],
      "metadata": {
        "colab": {
          "base_uri": "https://localhost:8080/",
          "height": 415
        },
        "id": "JzRKLiCT5KBM",
        "outputId": "a85fd9c3-d756-478c-985f-7c27b807a9db"
      },
      "execution_count": 4,
      "outputs": [
        {
          "output_type": "display_data",
          "data": {
            "text/plain": [
              "<Figure size 640x480 with 1 Axes>"
            ],
            "image/png": "[encoded data removed]"
          },
          "metadata": {}
        }
      ]
    },
    {
      "cell_type": "markdown",
      "source": [
        "##Escrevendo equações no Python, incluindo modulares"
      ],
      "metadata": {
        "id": "8fD34rS15Xwa"
      }
    },
    {
      "cell_type": "code",
      "source": [
        "from sympy import *\n",
        "x1 = symbols('x', real=True) #real para indicar que se trata de um número real a ser resolvido e não de um número imaginário\n",
        "eq1 = abs(x1)\n",
        "eq1"
      ],
      "metadata": {
        "colab": {
          "base_uri": "https://localhost:8080/",
          "height": 38
        },
        "id": "rCcN8nqJ5ZG0",
        "outputId": "4200af02-53c7-4bb5-927d-d5b4330d3fbc"
      },
      "execution_count": 5,
      "outputs": [
        {
          "output_type": "execute_result",
          "data": {
            "text/plain": [
              "Abs(x)"
            ],
            "text/latex": "$\\displaystyle \\left|{x}\\right|$"
          },
          "metadata": {},
          "execution_count": 5
        }
      ]
    },
    {
      "cell_type": "code",
      "source": [
        "x2 = symbols('x')\n",
        "y = x2**2  + 2*x2 - 3\n",
        "y"
      ],
      "metadata": {
        "colab": {
          "base_uri": "https://localhost:8080/",
          "height": 38
        },
        "id": "PJ0d6vB-66hf",
        "outputId": "020c87d0-598e-4d1c-8add-ae0495644dc5"
      },
      "execution_count": 6,
      "outputs": [
        {
          "output_type": "execute_result",
          "data": {
            "text/plain": [
              "x**2 + 2*x - 3"
            ],
            "text/latex": "$\\displaystyle x^{2} + 2 x - 3$"
          },
          "metadata": {},
          "execution_count": 6
        }
      ]
    },
    {
      "cell_type": "code",
      "source": [
        "# Setar a expressão eq1 igual a 1 para que sejam encontradas as raízes da equação\n",
        "result1 = solve(Eq(eq1, 1))\n",
        "\n",
        "print(result1)"
      ],
      "metadata": {
        "colab": {
          "base_uri": "https://localhost:8080/"
        },
        "id": "BlDF1Py296SW",
        "outputId": "f7d7c11a-076a-4bbc-84fc-13d05f8f18dc"
      },
      "execution_count": 7,
      "outputs": [
        {
          "output_type": "stream",
          "name": "stdout",
          "text": [
            "[-1, 1]\n"
          ]
        }
      ]
    },
    {
      "cell_type": "code",
      "source": [
        "# Setar a expressão y igual a zero para que sejam encontradas as raízes da equação\n",
        "result2 = solve(Eq(y, 0))\n",
        "\n",
        "print(result2)"
      ],
      "metadata": {
        "colab": {
          "base_uri": "https://localhost:8080/"
        },
        "id": "wKmPxl9y-H1g",
        "outputId": "e330514e-715d-4027-9fc2-eeb2bac02032"
      },
      "execution_count": 8,
      "outputs": [
        {
          "output_type": "stream",
          "name": "stdout",
          "text": [
            "[-3, 1]\n"
          ]
        }
      ]
    },
    {
      "cell_type": "markdown",
      "source": [
        "##Simulando dados usando Python (muito útil daqui para frente)"
      ],
      "metadata": {
        "id": "-cl45agx-wv4"
      }
    },
    {
      "cell_type": "code",
      "source": [
        "from random import *\n",
        "\n",
        "x=[]\n",
        "for i in range (0,20):\n",
        "    z = round(float(uniform(0.0, 10.10)), 2)\n",
        "    x.append(z)\n",
        "\n",
        "len(x)"
      ],
      "metadata": {
        "colab": {
          "base_uri": "https://localhost:8080/"
        },
        "id": "0xDgZX_k-zue",
        "outputId": "6e62ff59-6e60-4607-f3d0-64c74336e07c"
      },
      "execution_count": 10,
      "outputs": [
        {
          "output_type": "execute_result",
          "data": {
            "text/plain": [
              "20"
            ]
          },
          "metadata": {},
          "execution_count": 10
        }
      ]
    },
    {
      "cell_type": "code",
      "source": [
        "y=[]\n",
        "for i in range (0,20):\n",
        "    y.append(int(uniform(0.0, 100)))\n",
        "\n",
        "z = x,y\n",
        "z"
      ],
      "metadata": {
        "colab": {
          "base_uri": "https://localhost:8080/"
        },
        "id": "BxjO6aFBF6Gb",
        "outputId": "cc278fcd-3129-4d37-eb62-553dcd3bc8ad"
      },
      "execution_count": 12,
      "outputs": [
        {
          "output_type": "execute_result",
          "data": {
            "text/plain": [
              "([2.27,\n",
              "  6.5,\n",
              "  6.18,\n",
              "  7.65,\n",
              "  9.11,\n",
              "  5.14,\n",
              "  3.93,\n",
              "  8.75,\n",
              "  7.38,\n",
              "  2.38,\n",
              "  5.33,\n",
              "  1.58,\n",
              "  5.19,\n",
              "  9.16,\n",
              "  3.43,\n",
              "  3.48,\n",
              "  3.68,\n",
              "  2.06,\n",
              "  2.39,\n",
              "  6.6],\n",
              " [24,\n",
              "  41,\n",
              "  58,\n",
              "  44,\n",
              "  43,\n",
              "  88,\n",
              "  81,\n",
              "  78,\n",
              "  58,\n",
              "  94,\n",
              "  72,\n",
              "  64,\n",
              "  18,\n",
              "  20,\n",
              "  27,\n",
              "  75,\n",
              "  3,\n",
              "  81,\n",
              "  74,\n",
              "  95])"
            ]
          },
          "metadata": {},
          "execution_count": 12
        }
      ]
    },
    {
      "cell_type": "markdown",
      "source": [
        "##Criando DF (DataFrame) em Python - Tabela - Usando Pandas"
      ],
      "metadata": {
        "id": "8NxdbZKdGUlm"
      }
    },
    {
      "cell_type": "code",
      "source": [
        "import pandas as pd\n",
        "df = pd.DataFrame(z, index=['x', 'y']).T\n",
        "df"
      ],
      "metadata": {
        "colab": {
          "base_uri": "https://localhost:8080/",
          "height": 677
        },
        "id": "GdyruJ2bGW5H",
        "outputId": "e4480a5e-baaf-4c23-9276-499c59e77e59"
      },
      "execution_count": 13,
      "outputs": [
        {
          "output_type": "execute_result",
          "data": {
            "text/plain": [
              "       x     y\n",
              "0   2.27  24.0\n",
              "1   6.50  41.0\n",
              "2   6.18  58.0\n",
              "3   7.65  44.0\n",
              "4   9.11  43.0\n",
              "5   5.14  88.0\n",
              "6   3.93  81.0\n",
              "7   8.75  78.0\n",
              "8   7.38  58.0\n",
              "9   2.38  94.0\n",
              "10  5.33  72.0\n",
              "11  1.58  64.0\n",
              "12  5.19  18.0\n",
              "13  9.16  20.0\n",
              "14  3.43  27.0\n",
              "15  3.48  75.0\n",
              "16  3.68   3.0\n",
              "17  2.06  81.0\n",
              "18  2.39  74.0\n",
              "19  6.60  95.0"
            ],
            "text/html": [
              "\n",
              "  <div id=\"df-62a94b0b-2dc1-490a-a64f-420d88af84b5\" class=\"colab-df-container\">\n",
              "    <div>\n",
              "<style scoped>\n",
              "    .dataframe tbody tr th:only-of-type {\n",
              "        vertical-align: middle;\n",
              "    }\n",
              "\n",
              "    .dataframe tbody tr th {\n",
              "        vertical-align: top;\n",
              "    }\n",
              "\n",
              "    .dataframe thead th {\n",
              "        text-align: right;\n",
              "    }\n",
              "</style>\n",
              "<table border=\"1\" class=\"dataframe\">\n",
              "  <thead>\n",
              "    <tr style=\"text-align: right;\">\n",
              "      <th></th>\n",
              "      <th>x</th>\n",
              "      <th>y</th>\n",
              "    </tr>\n",
              "  </thead>\n",
              "  <tbody>\n",
              "    <tr>\n",
              "      <th>0</th>\n",
              "      <td>2.27</td>\n",
              "      <td>24.0</td>\n",
              "    </tr>\n",
              "    <tr>\n",
              "      <th>1</th>\n",
              "      <td>6.50</td>\n",
              "      <td>41.0</td>\n",
              "    </tr>\n",
              "    <tr>\n",
              "      <th>2</th>\n",
              "      <td>6.18</td>\n",
              "      <td>58.0</td>\n",
              "    </tr>\n",
              "    <tr>\n",
              "      <th>3</th>\n",
              "      <td>7.65</td>\n",
              "      <td>44.0</td>\n",
              "    </tr>\n",
              "    <tr>\n",
              "      <th>4</th>\n",
              "      <td>9.11</td>\n",
              "      <td>43.0</td>\n",
              "    </tr>\n",
              "    <tr>\n",
              "      <th>5</th>\n",
              "      <td>5.14</td>\n",
              "      <td>88.0</td>\n",
              "    </tr>\n",
              "    <tr>\n",
              "      <th>6</th>\n",
              "      <td>3.93</td>\n",
              "      <td>81.0</td>\n",
              "    </tr>\n",
              "    <tr>\n",
              "      <th>7</th>\n",
              "      <td>8.75</td>\n",
              "      <td>78.0</td>\n",
              "    </tr>\n",
              "    <tr>\n",
              "      <th>8</th>\n",
              "      <td>7.38</td>\n",
              "      <td>58.0</td>\n",
              "    </tr>\n",
              "    <tr>\n",
              "      <th>9</th>\n",
              "      <td>2.38</td>\n",
              "      <td>94.0</td>\n",
              "    </tr>\n",
              "    <tr>\n",
              "      <th>10</th>\n",
              "      <td>5.33</td>\n",
              "      <td>72.0</td>\n",
              "    </tr>\n",
              "    <tr>\n",
              "      <th>11</th>\n",
              "      <td>1.58</td>\n",
              "      <td>64.0</td>\n",
              "    </tr>\n",
              "    <tr>\n",
              "      <th>12</th>\n",
              "      <td>5.19</td>\n",
              "      <td>18.0</td>\n",
              "    </tr>\n",
              "    <tr>\n",
              "      <th>13</th>\n",
              "      <td>9.16</td>\n",
              "      <td>20.0</td>\n",
              "    </tr>\n",
              "    <tr>\n",
              "      <th>14</th>\n",
              "      <td>3.43</td>\n",
              "      <td>27.0</td>\n",
              "    </tr>\n",
              "    <tr>\n",
              "      <th>15</th>\n",
              "      <td>3.48</td>\n",
              "      <td>75.0</td>\n",
              "    </tr>\n",
              "    <tr>\n",
              "      <th>16</th>\n",
              "      <td>3.68</td>\n",
              "      <td>3.0</td>\n",
              "    </tr>\n",
              "    <tr>\n",
              "      <th>17</th>\n",
              "      <td>2.06</td>\n",
              "      <td>81.0</td>\n",
              "    </tr>\n",
              "    <tr>\n",
              "      <th>18</th>\n",
              "      <td>2.39</td>\n",
              "      <td>74.0</td>\n",
              "    </tr>\n",
              "    <tr>\n",
              "      <th>19</th>\n",
              "      <td>6.60</td>\n",
              "      <td>95.0</td>\n",
              "    </tr>\n",
              "  </tbody>\n",
              "</table>\n",
              "</div>\n",
              "    <div class=\"colab-df-buttons\">\n",
              "\n",
              "  <div class=\"colab-df-container\">\n",
              "    <button class=\"colab-df-convert\" onclick=\"convertToInteractive('df-62a94b0b-2dc1-490a-a64f-420d88af84b5')\"\n",
              "            title=\"Convert this dataframe to an interactive table.\"\n",
              "            style=\"display:none;\">\n",
              "\n",
              "  <svg xmlns=\"http://www.w3.org/2000/svg\" height=\"24px\" viewBox=\"0 -960 960 960\">\n",
              "    <path d=\"M120-120v-720h720v720H120Zm60-500h600v-160H180v160Zm220 220h160v-160H400v160Zm0 220h160v-160H400v160ZM180-400h160v-160H180v160Zm440 0h160v-160H620v160ZM180-180h160v-160H180v160Zm440 0h160v-160H620v160Z\"/>\n",
              "  </svg>\n",
              "    </button>\n",
              "\n",
              "  <style>\n",
              "    .colab-df-container {\n",
              "      display:flex;\n",
              "      gap: 12px;\n",
              "    }\n",
              "\n",
              "    .colab-df-convert {\n",
              "      background-color: #E8F0FE;\n",
              "      border: none;\n",
              "      border-radius: 50%;\n",
              "      cursor: pointer;\n",
              "      display: none;\n",
              "      fill: #1967D2;\n",
              "      height: 32px;\n",
              "      padding: 0 0 0 0;\n",
              "      width: 32px;\n",
              "    }\n",
              "\n",
              "    .colab-df-convert:hover {\n",
              "      background-color: #E2EBFA;\n",
              "      box-shadow: 0px 1px 2px rgba(60, 64, 67, 0.3), 0px 1px 3px 1px rgba(60, 64, 67, 0.15);\n",
              "      fill: #174EA6;\n",
              "    }\n",
              "\n",
              "    .colab-df-buttons div {\n",
              "      margin-bottom: 4px;\n",
              "    }\n",
              "\n",
              "    [theme=dark] .colab-df-convert {\n",
              "      background-color: #3B4455;\n",
              "      fill: #D2E3FC;\n",
              "    }\n",
              "\n",
              "    [theme=dark] .colab-df-convert:hover {\n",
              "      background-color: #434B5C;\n",
              "      box-shadow: 0px 1px 3px 1px rgba(0, 0, 0, 0.15);\n",
              "      filter: drop-shadow(0px 1px 2px rgba(0, 0, 0, 0.3));\n",
              "      fill: #FFFFFF;\n",
              "    }\n",
              "  </style>\n",
              "\n",
              "    <script>\n",
              "      const buttonEl =\n",
              "        document.querySelector('#df-62a94b0b-2dc1-490a-a64f-420d88af84b5 button.colab-df-convert');\n",
              "      buttonEl.style.display =\n",
              "        google.colab.kernel.accessAllowed ? 'block' : 'none';\n",
              "\n",
              "      async function convertToInteractive(key) {\n",
              "        const element = document.querySelector('#df-62a94b0b-2dc1-490a-a64f-420d88af84b5');\n",
              "        const dataTable =\n",
              "          await google.colab.kernel.invokeFunction('convertToInteractive',\n",
              "                                                    [key], {});\n",
              "        if (!dataTable) return;\n",
              "\n",
              "        const docLinkHtml = 'Like what you see? Visit the ' +\n",
              "          '<a target=\"_blank\" href=https://colab.research.google.com/notebooks/data_table.ipynb>data table notebook</a>'\n",
              "          + ' to learn more about interactive tables.';\n",
              "        element.innerHTML = '';\n",
              "        dataTable['output_type'] = 'display_data';\n",
              "        await google.colab.output.renderOutput(dataTable, element);\n",
              "        const docLink = document.createElement('div');\n",
              "        docLink.innerHTML = docLinkHtml;\n",
              "        element.appendChild(docLink);\n",
              "      }\n",
              "    </script>\n",
              "  </div>\n",
              "\n",
              "\n",
              "<div id=\"df-1a97dffd-b757-41d2-bbfe-82d33ade22ed\">\n",
              "  <button class=\"colab-df-quickchart\" onclick=\"quickchart('df-1a97dffd-b757-41d2-bbfe-82d33ade22ed')\"\n",
              "            title=\"Suggest charts\"\n",
              "            style=\"display:none;\">\n",
              "\n",
              "<svg xmlns=\"http://www.w3.org/2000/svg\" height=\"24px\"viewBox=\"0 0 24 24\"\n",
              "     width=\"24px\">\n",
              "    <g>\n",
              "        <path d=\"M19 3H5c-1.1 0-2 .9-2 2v14c0 1.1.9 2 2 2h14c1.1 0 2-.9 2-2V5c0-1.1-.9-2-2-2zM9 17H7v-7h2v7zm4 0h-2V7h2v10zm4 0h-2v-4h2v4z\"/>\n",
              "    </g>\n",
              "</svg>\n",
              "  </button>\n",
              "\n",
              "<style>\n",
              "  .colab-df-quickchart {\n",
              "      --bg-color: #E8F0FE;\n",
              "      --fill-color: #1967D2;\n",
              "      --hover-bg-color: #E2EBFA;\n",
              "      --hover-fill-color: #174EA6;\n",
              "      --disabled-fill-color: #AAA;\n",
              "      --disabled-bg-color: #DDD;\n",
              "  }\n",
              "\n",
              "  [theme=dark] .colab-df-quickchart {\n",
              "      --bg-color: #3B4455;\n",
              "      --fill-color: #D2E3FC;\n",
              "      --hover-bg-color: #434B5C;\n",
              "      --hover-fill-color: #FFFFFF;\n",
              "      --disabled-bg-color: #3B4455;\n",
              "      --disabled-fill-color: #666;\n",
              "  }\n",
              "\n",
              "  .colab-df-quickchart {\n",
              "    background-color: var(--bg-color);\n",
              "    border: none;\n",
              "    border-radius: 50%;\n",
              "    cursor: pointer;\n",
              "    display: none;\n",
              "    fill: var(--fill-color);\n",
              "    height: 32px;\n",
              "    padding: 0;\n",
              "    width: 32px;\n",
              "  }\n",
              "\n",
              "  .colab-df-quickchart:hover {\n",
              "    background-color: var(--hover-bg-color);\n",
              "    box-shadow: 0 1px 2px rgba(60, 64, 67, 0.3), 0 1px 3px 1px rgba(60, 64, 67, 0.15);\n",
              "    fill: var(--button-hover-fill-color);\n",
              "  }\n",
              "\n",
              "  .colab-df-quickchart-complete:disabled,\n",
              "  .colab-df-quickchart-complete:disabled:hover {\n",
              "    background-color: var(--disabled-bg-color);\n",
              "    fill: var(--disabled-fill-color);\n",
              "    box-shadow: none;\n",
              "  }\n",
              "\n",
              "  .colab-df-spinner {\n",
              "    border: 2px solid var(--fill-color);\n",
              "    border-color: transparent;\n",
              "    border-bottom-color: var(--fill-color);\n",
              "    animation:\n",
              "      spin 1s steps(1) infinite;\n",
              "  }\n",
              "\n",
              "  @keyframes spin {\n",
              "    0% {\n",
              "      border-color: transparent;\n",
              "      border-bottom-color: var(--fill-color);\n",
              "      border-left-color: var(--fill-color);\n",
              "    }\n",
              "    20% {\n",
              "      border-color: transparent;\n",
              "      border-left-color: var(--fill-color);\n",
              "      border-top-color: var(--fill-color);\n",
              "    }\n",
              "    30% {\n",
              "      border-color: transparent;\n",
              "      border-left-color: var(--fill-color);\n",
              "      border-top-color: var(--fill-color);\n",
              "      border-right-color: var(--fill-color);\n",
              "    }\n",
              "    40% {\n",
              "      border-color: transparent;\n",
              "      border-right-color: var(--fill-color);\n",
              "      border-top-color: var(--fill-color);\n",
              "    }\n",
              "    60% {\n",
              "      border-color: transparent;\n",
              "      border-right-color: var(--fill-color);\n",
              "    }\n",
              "    80% {\n",
              "      border-color: transparent;\n",
              "      border-right-color: var(--fill-color);\n",
              "      border-bottom-color: var(--fill-color);\n",
              "    }\n",
              "    90% {\n",
              "      border-color: transparent;\n",
              "      border-bottom-color: var(--fill-color);\n",
              "    }\n",
              "  }\n",
              "</style>\n",
              "\n",
              "  <script>\n",
              "    async function quickchart(key) {\n",
              "      const quickchartButtonEl =\n",
              "        document.querySelector('#' + key + ' button');\n",
              "      quickchartButtonEl.disabled = true;  // To prevent multiple clicks.\n",
              "      quickchartButtonEl.classList.add('colab-df-spinner');\n",
              "      try {\n",
              "        const charts = await google.colab.kernel.invokeFunction(\n",
              "            'suggestCharts', [key], {});\n",
              "      } catch (error) {\n",
              "        console.error('Error during call to suggestCharts:', error);\n",
              "      }\n",
              "      quickchartButtonEl.classList.remove('colab-df-spinner');\n",
              "      quickchartButtonEl.classList.add('colab-df-quickchart-complete');\n",
              "    }\n",
              "    (() => {\n",
              "      let quickchartButtonEl =\n",
              "        document.querySelector('#df-1a97dffd-b757-41d2-bbfe-82d33ade22ed button');\n",
              "      quickchartButtonEl.style.display =\n",
              "        google.colab.kernel.accessAllowed ? 'block' : 'none';\n",
              "    })();\n",
              "  </script>\n",
              "</div>\n",
              "    </div>\n",
              "  </div>\n"
            ]
          },
          "metadata": {},
          "execution_count": 13
        }
      ]
    },
    {
      "cell_type": "code",
      "source": [
        "df['x']"
      ],
      "metadata": {
        "colab": {
          "base_uri": "https://localhost:8080/"
        },
        "id": "4QP9RMJGGcHS",
        "outputId": "be063dce-558b-4506-8925-b9473190231f"
      },
      "execution_count": 14,
      "outputs": [
        {
          "output_type": "execute_result",
          "data": {
            "text/plain": [
              "0     2.27\n",
              "1     6.50\n",
              "2     6.18\n",
              "3     7.65\n",
              "4     9.11\n",
              "5     5.14\n",
              "6     3.93\n",
              "7     8.75\n",
              "8     7.38\n",
              "9     2.38\n",
              "10    5.33\n",
              "11    1.58\n",
              "12    5.19\n",
              "13    9.16\n",
              "14    3.43\n",
              "15    3.48\n",
              "16    3.68\n",
              "17    2.06\n",
              "18    2.39\n",
              "19    6.60\n",
              "Name: x, dtype: float64"
            ]
          },
          "metadata": {},
          "execution_count": 14
        }
      ]
    },
    {
      "cell_type": "code",
      "source": [
        "#gerando histograma de valores da coluna x\n",
        "\n",
        "plt.hist(df.x)"
      ],
      "metadata": {
        "colab": {
          "base_uri": "https://localhost:8080/",
          "height": 502
        },
        "id": "YCHCtxO6GnwE",
        "outputId": "2dc9d01b-dcd1-48c3-dfa0-1cebaf6feab6"
      },
      "execution_count": 15,
      "outputs": [
        {
          "output_type": "execute_result",
          "data": {
            "text/plain": [
              "(array([3., 2., 3., 1., 3., 0., 3., 1., 1., 3.]),\n",
              " array([1.58 , 2.338, 3.096, 3.854, 4.612, 5.37 , 6.128, 6.886, 7.644,\n",
              "        8.402, 9.16 ]),\n",
              " <BarContainer object of 10 artists>)"
            ]
          },
          "metadata": {},
          "execution_count": 15
        },
        {
          "output_type": "display_data",
          "data": {
            "text/plain": [
              "<Figure size 640x480 with 1 Axes>"
            ],
            "image/png": "[encoded data removed]"
          },
          "metadata": {}
        }
      ]
    },
    {
      "cell_type": "code",
      "source": [
        "#gerando histograma de valores da coluna y\n",
        "\n",
        "plt.hist(df.y)"
      ],
      "metadata": {
        "colab": {
          "base_uri": "https://localhost:8080/",
          "height": 484
        },
        "id": "G0FqUfD0Gr7R",
        "outputId": "c9fa28f0-ef3e-462c-9cc7-77ed676210ec"
      },
      "execution_count": 16,
      "outputs": [
        {
          "output_type": "execute_result",
          "data": {
            "text/plain": [
              "(array([1., 2., 2., 0., 3., 2., 1., 3., 3., 3.]),\n",
              " array([ 3. , 12.2, 21.4, 30.6, 39.8, 49. , 58.2, 67.4, 76.6, 85.8, 95. ]),\n",
              " <BarContainer object of 10 artists>)"
            ]
          },
          "metadata": {},
          "execution_count": 16
        },
        {
          "output_type": "display_data",
          "data": {
            "text/plain": [
              "<Figure size 640x480 with 1 Axes>"
            ],
            "image/png": "[encoded data removed]"
          },
          "metadata": {}
        }
      ]
    }
  ]
}