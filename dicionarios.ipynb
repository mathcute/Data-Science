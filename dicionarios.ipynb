{
  "nbformat": 4,
  "nbformat_minor": 0,
  "metadata": {
    "colab": {
      "provenance": [],
      "authorship_tag": "ABX9TyMrAZ856pbYr5JFeyd9y4Di",
      "include_colab_link": true
    },
    "kernelspec": {
      "name": "python3",
      "display_name": "Python 3"
    },
    "language_info": {
      "name": "python"
    }
  },
  "cells": [
    {
      "cell_type": "markdown",
      "metadata": {
        "id": "view-in-github",
        "colab_type": "text"
      },
      "source": [
        "<a href=\"https://colab.research.google.com/github/mathcute/Data-Science/blob/main/dicionarios.ipynb\" target=\"_parent\"><img src=\"https://colab.research.google.com/assets/colab-badge.svg\" alt=\"Open In Colab\"/></a>"
      ]
    },
    {
      "cell_type": "markdown",
      "source": [
        "##Utilização de dicionários em Python"
      ],
      "metadata": {
        "id": "aSDR8dfPF52F"
      }
    },
    {
      "cell_type": "code",
      "execution_count": null,
      "metadata": {
        "colab": {
          "base_uri": "https://localhost:8080/"
        },
        "id": "OWCJHbaNFx2G",
        "outputId": "bd208a95-ef07-4d57-f8ba-857824d7f90b"
      },
      "outputs": [
        {
          "output_type": "stream",
          "name": "stdout",
          "text": [
            "{'nome': 'whatever', 'idade': 100, 'telefone': -1111}\n"
          ]
        }
      ],
      "source": [
        "dic = {\"nome\": \"whatever\", \"idade\": 100}\n",
        "\n",
        "dic[\"telefone\"] = 0000-1111\n",
        "\n",
        "print(dic)"
      ]
    },
    {
      "cell_type": "markdown",
      "source": [
        "##Iterar dicionários"
      ],
      "metadata": {
        "id": "xCBiQrKRGrBW"
      }
    },
    {
      "cell_type": "code",
      "source": [
        "for chave in dic:\n",
        "\n",
        "  print(chave, dic[chave], \"\\n\")\n",
        "\n",
        "for chave, valor in dic.items():\n",
        "\n",
        "  print(chave, valor, \"\\n\")"
      ],
      "metadata": {
        "colab": {
          "base_uri": "https://localhost:8080/"
        },
        "id": "Yz2Unb_CG3Fk",
        "outputId": "820b4e86-6843-473c-e3ae-d5ce8c101318"
      },
      "execution_count": null,
      "outputs": [
        {
          "output_type": "stream",
          "name": "stdout",
          "text": [
            "nome whatever \n",
            "\n",
            "idade 100 \n",
            "\n",
            "telefone -1111 \n",
            "\n",
            "nome whatever \n",
            "\n",
            "idade 100 \n",
            "\n",
            "telefone -1111 \n",
            "\n"
          ]
        }
      ]
    }
  ]
}