{
  "nbformat": 4,
  "nbformat_minor": 0,
  "metadata": {
    "colab": {
      "provenance": [],
      "authorship_tag": "ABX9TyMrlW8P+5EryuosT9OP+hqB",
      "include_colab_link": true
    },
    "kernelspec": {
      "name": "python3",
      "display_name": "Python 3"
    },
    "language_info": {
      "name": "python"
    }
  },
  "cells": [
    {
      "cell_type": "markdown",
      "metadata": {
        "id": "view-in-github",
        "colab_type": "text"
      },
      "source": [
        "<a href=\"https://colab.research.google.com/github/mathcute/Data-Science/blob/main/manipulandoStrings.ipynb\" target=\"_parent\"><img src=\"https://colab.research.google.com/assets/colab-badge.svg\" alt=\"Open In Colab\"/></a>"
      ]
    },
    {
      "cell_type": "markdown",
      "source": [
        "## Seperando strings"
      ],
      "metadata": {
        "id": "7zb5wXrxqDA6"
      }
    },
    {
      "cell_type": "code",
      "execution_count": null,
      "metadata": {
        "colab": {
          "base_uri": "https://localhost:8080/"
        },
        "id": "-IJKLjz2oW8u",
        "outputId": "222f8203-06fc-4f05-b732-c6ad3bd9f984"
      },
      "outputs": [
        {
          "output_type": "stream",
          "name": "stdout",
          "text": [
            "Digite seu nome: msams\n",
            "['msams']\n"
          ]
        }
      ],
      "source": [
        "nome = input(\"Digite seu nome: \").split(\",\")\n",
        "print(nome)"
      ]
    },
    {
      "cell_type": "markdown",
      "source": [
        "## Substituir uma String por outra"
      ],
      "metadata": {
        "id": "nGX0JQIBqriz"
      }
    },
    {
      "cell_type": "code",
      "source": [
        "nome = \"matheus\"\n",
        "\n",
        "nome1 = nome.replace(\"matheus\", \"carol\")\n",
        "print(nome1)"
      ],
      "metadata": {
        "colab": {
          "base_uri": "https://localhost:8080/"
        },
        "id": "CYb7okkOqvqz",
        "outputId": "2b1e4750-6b5c-4738-f6a3-c1967698e2fe"
      },
      "execution_count": null,
      "outputs": [
        {
          "output_type": "stream",
          "name": "stdout",
          "text": [
            "carol\n"
          ]
        }
      ]
    },
    {
      "cell_type": "markdown",
      "source": [
        "## String em letra maiúscula"
      ],
      "metadata": {
        "id": "E-7CuMSIrRR7"
      }
    },
    {
      "cell_type": "code",
      "source": [
        "nome = \"matheus\"\n",
        "\n",
        "nome1 = nome.upper()\n",
        "\n",
        "print(nome1)"
      ],
      "metadata": {
        "colab": {
          "base_uri": "https://localhost:8080/"
        },
        "id": "CkRUBdUdrZG-",
        "outputId": "80d54779-1fda-4202-ef43-4dd23aa4a694"
      },
      "execution_count": null,
      "outputs": [
        {
          "output_type": "stream",
          "name": "stdout",
          "text": [
            "MATHEUS\n"
          ]
        }
      ]
    },
    {
      "cell_type": "markdown",
      "source": [
        "## Capitalizar a 1ª letra de uma String, através do método capitalize()."
      ],
      "metadata": {
        "id": "d9SQE0LutDfr"
      }
    },
    {
      "cell_type": "code",
      "source": [
        "nome = \"lucas foi passear\"\n",
        "\n",
        "print(nome.capitalize())"
      ],
      "metadata": {
        "colab": {
          "base_uri": "https://localhost:8080/"
        },
        "id": "rlLNktbatSzw",
        "outputId": "9edbc8c9-d5be-4682-c8d8-6d2c2e180f54"
      },
      "execution_count": null,
      "outputs": [
        {
          "output_type": "stream",
          "name": "stdout",
          "text": [
            "Lucas foi passear\n"
          ]
        }
      ]
    },
    {
      "cell_type": "markdown",
      "source": [
        "## Encontrar uma ocorrência de String dentro de outra String, através do método find()"
      ],
      "metadata": {
        "id": "Sgv99YJ_twJY"
      }
    },
    {
      "cell_type": "code",
      "source": [
        "nome = \"Lucas Alberto\"\n",
        "\n",
        "nome1 = nome.find(\"Lucas Alberto\")\n",
        "\n",
        "print(nome1)"
      ],
      "metadata": {
        "colab": {
          "base_uri": "https://localhost:8080/"
        },
        "id": "ZKOZofMst5_x",
        "outputId": "fcf326e3-4d91-497d-ebf8-584527742589"
      },
      "execution_count": null,
      "outputs": [
        {
          "output_type": "stream",
          "name": "stdout",
          "text": [
            "0\n"
          ]
        }
      ]
    }
  ]
}