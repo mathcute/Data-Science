{
  "nbformat": 4,
  "nbformat_minor": 0,
  "metadata": {
    "colab": {
      "provenance": [],
      "collapsed_sections": [
        "Mr50s_jPxdC0",
        "91Q4O-kW4iTH",
        "9MJMAYOX8Gp-"
      ],
      "authorship_tag": "ABX9TyNLAEh/VJGFOACHP9d+hM2A",
      "include_colab_link": true
    },
    "kernelspec": {
      "name": "python3",
      "display_name": "Python 3"
    },
    "language_info": {
      "name": "python"
    }
  },
  "cells": [
    {
      "cell_type": "markdown",
      "metadata": {
        "id": "view-in-github",
        "colab_type": "text"
      },
      "source": [
        "<a href=\"https://colab.research.google.com/github/mathcute/Data-Science/blob/main/exerciciosPython.ipynb\" target=\"_parent\"><img src=\"https://colab.research.google.com/assets/colab-badge.svg\" alt=\"Open In Colab\"/></a>"
      ]
    },
    {
      "cell_type": "markdown",
      "source": [
        "## Elabore um programa em Python que insere a tabuada de multiplicação de 9 em um arquivo txt.\n"
      ],
      "metadata": {
        "id": "Mr50s_jPxdC0"
      }
    },
    {
      "cell_type": "code",
      "source": [
        "arquivo = open(\"multiplicacao.txt\", 'w')\n",
        "\n",
        "for i in range(1, 11):\n",
        "\n",
        "  arquivo.write(f\"{i} x 9 = {i*9}\\n\")\n"
      ],
      "metadata": {
        "id": "KhOfD3GFxi1K"
      },
      "execution_count": null,
      "outputs": []
    },
    {
      "cell_type": "markdown",
      "source": [],
      "metadata": {
        "id": "AYwzy5Vkzlz6"
      }
    },
    {
      "cell_type": "markdown",
      "source": [
        "## Faça um programa que leia os dados de uma pessoa (Nome, RG, CPF, ano de nascimento e armazene em um arquivo txt, calculando a idade da pessoa."
      ],
      "metadata": {
        "id": "2tLP0u2gzpNV"
      }
    },
    {
      "cell_type": "code",
      "source": [
        "dadosNome = input((\"Insira seu nome:\"))\n",
        "\n",
        "dadosRG = input((\"Insira seu RG:\"))\n",
        "\n",
        "dadosCPF = input((\"Insira seu CPF:\"))\n",
        "\n",
        "dadosANO =  int(input(\"Insira seu ano:\"))\n",
        "\n",
        "idade = dadosANO - 2023\n",
        "\n",
        "with open(\"informacoes.txt\", 'w') as f:\n",
        "\n",
        "  f.write(dadosNome + \"\\n\")\n",
        "  f.write(dadosRG + \"\\n\")\n",
        "  f.write(dadosCPF + \"\\n\")\n",
        "  f.write(str(dadosANO) + \"\\n\")\n",
        "\n",
        "  f.write(\"a idade da pessoa eh: \" + str(idade))\n"
      ],
      "metadata": {
        "id": "F1faivHW0BzZ"
      },
      "execution_count": null,
      "outputs": []
    },
    {
      "cell_type": "markdown",
      "source": [],
      "metadata": {
        "id": "aN-JDvgZ4gQp"
      }
    },
    {
      "cell_type": "markdown",
      "source": [
        "## Faça um programa que leia um arquivo txt e insere cada linha em uma lista."
      ],
      "metadata": {
        "id": "91Q4O-kW4iTH"
      }
    },
    {
      "cell_type": "code",
      "source": [
        "linha = (input(\"Escreva o que desejar: \"))\n",
        "\n",
        "with open(\"arquivo.txt\", 'w') as f:\n",
        "\n",
        "  f.write(linha + \"\\n\")\n",
        "\n",
        "with open(\"arquivo.txt\", 'r') as f:\n",
        "  print(f.read())"
      ],
      "metadata": {
        "id": "oglqdQPr4kqO"
      },
      "execution_count": null,
      "outputs": []
    }
  ]
}